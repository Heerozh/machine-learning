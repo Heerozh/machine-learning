{
 "cells": [
  {
   "cell_type": "markdown",
   "metadata": {},
   "source": [
    "# 机器学习工程师纳米学位\n",
    "## 深度学习\n",
    "## 项目：搭建一个数字识别项目\n",
    "\n",
    "在此文件中，我们提供给你了一个模板，以便于你根据项目的要求一步步实现要求的功能，进而完成整个项目。如果你认为需要导入另外的一些代码，请确保你正确导入了他们，并且包含在你的提交文件中。以**'练习'**开始的标题表示接下来你将开始实现你的项目。注意有一些练习是可选的，并且用**'可选'**标记出来了。\n",
    "\n",
    "在此文件中，有些示例代码已经提供给你，但你还需要实现更多的功能让项目成功运行。除非有明确要求，你无须修改任何已给出的代码。以'练习'开始的标题表示接下来的代码部分中有你必须要实现的功能。每一部分都会有详细的指导，需要实现的部分也会在注释中以'TODO'标出。请仔细阅读所有的提示！\n",
    "\n",
    "除了实现代码外，你还必须回答一些与项目和你的实现有关的问题。每一个需要你回答的问题都会以**'问题 X'**为标题。请仔细阅读每个问题，并且在问题后的**'回答'**文字框中写出完整的答案。我们将根据你对问题的回答和撰写代码所实现的功能来对你提交的项目进行评分。\n",
    "\n",
    ">**注意：** Code 和 Markdown 区域可通过 **Shift + Enter** 快捷键运行。此外，Markdown可以通过双击进入编辑模式。"
   ]
  },
  {
   "cell_type": "markdown",
   "metadata": {},
   "source": [
    "----\n",
    "## 步骤 1: 设计并测试一个模型架构\n",
    "设计并实现一个能够识别数字序列的深度学习模型。你可以通过连接[notMNIST](http://yaroslavvb.blogspot.com/2011/09/notmnist-dataset.html)或者是[MNIST](http://yann.lecun.com/exdb/mnist/)的字符来合成数据来训练这个模型。为了产生用于测试的合成数字序列，你可以进行如下的设置：比如，你可以限制一个数据序列最多五个数字，并在你的深度网络上使用五个分类器。同时，你有必要准备一个额外的“空白”的字符，以处理相对较短的数字序列。\n",
    "\n",
    "在思考这个问题的时候有很多方面可以考虑：\n",
    "- 你的模型可以基于深度神经网络或者是卷积神经网络。\n",
    "- 你可以尝试是否在softmax分类器间共享权值。\n",
    "- 你还可以在深度神经网络中使用循环网络来替换其中的分类层，并且将数字序列里的数字一个一个地输出。\n",
    "\n",
    "你可以使用 Keras 来构建你的模型，[这里](https://keras.io/)了解更多。\n",
    "\n",
    "这里有一个[发表的关于这个问题的基准模型的论文](https://github.com/nd009/machine-learning/blob/zh-cn/projects/digit_recognition/42241.pdf) [（视频）](http://cn-static.udacity.com/mlnd/videos/ICLR14_%20Goodfellow.mp4)的例子。我们并不要求你构建的模型架构跟论文上一摸一样或者达到它那样的模型表现。这里紧紧是展示一个解决这个问题的例子。我们鼓励你采用不同的架构，来看看哪种表现对你来说最好。你也可以看论坛上关于论文中架构的[讨论](https://discussions.udacity.com/t/goodfellow-et-al-2013-architecture/202363)。"
   ]
  },
  {
   "cell_type": "markdown",
   "metadata": {},
   "source": [
    "### 实现\n",
    "使用下面的代码单元（必要的话可以使用多个代码单元）来实现你项目的第一步。一旦你完成了你的实现并且获得了满意的结果，请确认全面回答下面相关的问题。"
   ]
  },
  {
   "cell_type": "code",
   "execution_count": 1,
   "metadata": {
    "collapsed": false
   },
   "outputs": [
    {
     "name": "stdout",
     "output_type": "stream",
     "text": [
      "Extracting MNIST_data/train-images-idx3-ubyte.gz\n",
      "Extracting MNIST_data/train-labels-idx1-ubyte.gz\n",
      "Extracting MNIST_data/t10k-images-idx3-ubyte.gz\n",
      "Extracting MNIST_data/t10k-labels-idx1-ubyte.gz\n",
      "Extracting MNIST_data/train-images-idx3-ubyte.gz\n",
      "Extracting MNIST_data/train-labels-idx1-ubyte.gz\n",
      "Extracting MNIST_data/t10k-images-idx3-ubyte.gz\n",
      "Extracting MNIST_data/t10k-labels-idx1-ubyte.gz\n"
     ]
    }
   ],
   "source": [
    "### 在这里实现你的代码  \n",
    "### 必要的话你可以随意添加更多的代码单元 \n",
    "from __future__ import print_function\n",
    "from imp import reload\n",
    "import numpy as np\n",
    "import matplotlib.pyplot as plt\n",
    "from IPython.display import display, Image\n",
    "import random\n",
    "import os\n",
    "\n",
    "import mnist_seq\n",
    "mnist_seq = reload(mnist_seq)\n",
    "\n",
    "%matplotlib inline\n",
    "\n",
    "num_seqlen = 5\n",
    "num_labels = mnist_seq.DIGITS\n",
    "\n",
    "# Generate training data\n",
    "random.seed(1)\n",
    "train_data, train_labs = mnist_seq.gen_data(10000, seqs=num_seqlen)\n",
    "vail_data, vail_labs = mnist_seq.gen_data(1000, test=True, seqs=num_seqlen)"
   ]
  },
  {
   "cell_type": "code",
   "execution_count": 2,
   "metadata": {
    "collapsed": false
   },
   "outputs": [],
   "source": [
    "import tensorflow as tf\n",
    "\n",
    "def argmaxlab(lab):\n",
    "    return np.argmax(lab.reshape(-1, num_seqlen, num_labels), 2)\n",
    "\n",
    "def accuracy(predictions, labels):\n",
    "    return (100.0 * np.sum(argmaxlab(predictions) == argmaxlab(labels))\n",
    "          / (predictions.shape[0] * num_seqlen))"
   ]
  },
  {
   "cell_type": "code",
   "execution_count": 4,
   "metadata": {
    "collapsed": false,
    "scrolled": true
   },
   "outputs": [
    {
     "name": "stdout",
     "output_type": "stream",
     "text": [
      "Tensor(\"Placeholder:0\", dtype=float32)\n",
      "Tensor(\"predict/conv1/MaxPool:0\", shape=(?, 14, 70, 32), dtype=float32)\n",
      "Tensor(\"predict/conv2/MaxPool:0\", shape=(?, 7, 35, 64), dtype=float32)\n",
      "Tensor(\"predict/conv3/MaxPool:0\", shape=(?, 4, 18, 64), dtype=float32)\n",
      "Tensor(\"predict/fully_connected/dropout/mul:0\", shape=(?, 256), dtype=float32)\n",
      "Tensor(\"predict/out/add:0\", shape=(?, 55), dtype=float32)\n",
      "Tensor(\"predict/conv1_1/MaxPool:0\", shape=(1000, 14, 70, 32), dtype=float32)\n",
      "Tensor(\"predict/conv2_1/MaxPool:0\", shape=(1000, 7, 35, 64), dtype=float32)\n",
      "Tensor(\"predict/conv3_1/MaxPool:0\", shape=(1000, 4, 18, 64), dtype=float32)\n",
      "Tensor(\"predict/fully_connected_1/Relu:0\", shape=(1000, 256), dtype=float32)\n",
      "Initialized\n",
      "Minibatch loss at step 0: 0.829253\n",
      "Minibatch accuracy: 12.0%\n",
      "Test accuracy: 11.1%\n",
      "Minibatch loss at step 50: 0.217758\n",
      "Minibatch accuracy: 43.9%\n",
      "Test accuracy: 46.4%\n",
      "Minibatch loss at step 100: 0.121950\n",
      "Minibatch accuracy: 75.0%\n",
      "Test accuracy: 80.8%\n",
      "Minibatch loss at step 150: 0.071584\n",
      "Minibatch accuracy: 89.1%\n",
      "Test accuracy: 93.2%\n",
      "Minibatch loss at step 200: 0.051692\n",
      "Minibatch accuracy: 92.7%\n",
      "Test accuracy: 95.4%\n",
      "Minibatch loss at step 250: 0.040830\n",
      "Minibatch accuracy: 94.5%\n",
      "Test accuracy: 96.3%\n",
      "Minibatch loss at step 300: 0.035253\n",
      "Minibatch accuracy: 96.2%\n",
      "Test accuracy: 96.7%\n",
      "Minibatch loss at step 350: 0.037684\n",
      "Minibatch accuracy: 96.1%\n",
      "Test accuracy: 96.7%\n",
      "Minibatch loss at step 400: 0.028014\n",
      "Minibatch accuracy: 96.6%\n",
      "Test accuracy: 97.4%\n",
      "Test accuracy: 97.4%\n"
     ]
    }
   ],
   "source": [
    "#fit model\n",
    "import helper\n",
    "helper = reload(helper)\n",
    "\n",
    "# Main Model\n",
    "def my_model(x_input, drop=None):\n",
    "    depth1, depth2, depth3, depth4 = 32, 64, 64, 256\n",
    "    with tf.variable_scope(\"conv1\"):\n",
    "        relu = helper.conv_relu(x_input, kernel_shape=[3, 3, 1, depth1],  pool=True)\n",
    "        \n",
    "    with tf.variable_scope(\"conv2\"):\n",
    "        relu = helper.conv_relu(relu, kernel_shape=[3, 3, depth1, depth2],  pool=True)\n",
    "        \n",
    "    with tf.variable_scope(\"conv3\"):\n",
    "        relu = helper.conv_relu(relu, kernel_shape=[3, 3, depth2, depth3], pool=True)\n",
    "        \n",
    "    with tf.variable_scope(\"fully_connected\"):\n",
    "        shape = relu.get_shape().as_list()\n",
    "        csize = shape[1] * shape[2] * shape[3]\n",
    "        reshape = tf.reshape(relu, [-1, csize])    \n",
    "        relu = helper.relu(reshape, kernel_shape=[csize, depth4], drop=drop)\n",
    "        \n",
    "    with tf.variable_scope(\"out\"):\n",
    "        weights, biases = helper.var([depth4, num_labels * num_seqlen]) #11 * 5 = 55\n",
    "        logits = tf.matmul(relu, weights) + biases\n",
    "        return logits, tf.nn.sigmoid(logits)\n",
    "\n",
    "clf = helper.Learner(my_model, accuracy, \n",
    "                     steps=401, batch_size=128, learning_rate=0.01,\n",
    "                     loss=tf.nn.sigmoid_cross_entropy_with_logits,\n",
    "                     optimizer=tf.train.AdamOptimizer\n",
    "                     )\n",
    "\n",
    "clf.fit(train_data, train_labs, vail_data, vail_labs)"
   ]
  },
  {
   "cell_type": "code",
   "execution_count": 7,
   "metadata": {
    "collapsed": false
   },
   "outputs": [
    {
     "name": "stdout",
     "output_type": "stream",
     "text": [
      "100.0\n",
      "False 0\n"
     ]
    },
    {
     "name": "stderr",
     "output_type": "stream",
     "text": [
      "C:\\Program Files\\Anaconda2\\envs\\tensorflow-gpu\\lib\\site-packages\\ipykernel\\__main__.py:11: DeprecationWarning: elementwise == comparison failed; this will raise an error in the future.\n"
     ]
    },
    {
     "data": {
      "image/png": "[encoded data removed]",
      "text/plain": [
       "<matplotlib.figure.Figure at 0x28324b13ac8>"
      ]
     },
     "metadata": {},
     "output_type": "display_data"
    }
   ],
   "source": [
    "#test predict\n",
    "sample_idx = np.random.randint(len(vail_data))  # pick a random image index\n",
    "sample_image = vail_data[sample_idx, :]  # extract a 2D slice\n",
    "plt.imshow(sample_image.reshape(28, 28*5))  # display it\n",
    "\n",
    "predict_lab = clf.predict(np.array([sample_image]))\n",
    "\n",
    "plt.xlabel( argmaxlab(predict_lab[0]) )"
   ]
  },
  {
   "cell_type": "markdown",
   "metadata": {},
   "source": [
    "### 问题 1\n",
    "_你为解决这个问题采取了什么方法？_"
   ]
  },
  {
   "cell_type": "markdown",
   "metadata": {},
   "source": [
    "**回答：** 由于是图像识别，所以我考虑了使用卷积+池化来做。困难的是输出方面，我想用单层输出，考虑到单层输出5个的话无法用softmax来计算loss，所以我决定采用sigmoid。最后实验下来效果不错，但不知道能否用到实际数据上。"
   ]
  },
  {
   "cell_type": "markdown",
   "metadata": {},
   "source": [
    "### 问题 2\n",
    "_你最终的模型架构是什么样的？（什么类型的模型，层数，大小, 连接性等）_"
   ]
  },
  {
   "cell_type": "markdown",
   "metadata": {},
   "source": [
    "**回答：** 我采取了3个卷积层加池化，1个relu全连接层+drop，最后一个输出层, 输出一个5x11的矩阵，用sigmoid计算loss的训练方法来解决这个问题."
   ]
  },
  {
   "cell_type": "markdown",
   "metadata": {},
   "source": [
    "### 问题 3\n",
    "_你是如何训练你的模型的？你是如何合成数据集的？_请同时包括你创建的合成数据中的一些示例图像。"
   ]
  },
  {
   "cell_type": "markdown",
   "metadata": {},
   "source": [
    "**回答：** 使用了128一个批次进行训练，训练了400步。数据合成方式是先rand获得数字长度，然后从所有数据里随机选择数字图片，采用hstack合成一副28*140的图像。"
   ]
  },
  {
   "cell_type": "code",
   "execution_count": 8,
   "metadata": {
    "collapsed": false
   },
   "outputs": [
    {
     "name": "stdout",
     "output_type": "stream",
     "text": [
      "   0   1   2   3   4   5   6   7   8   9  B\n",
      "[[ 0.  1.  0.  0.  0.  0.  0.  0.  0.  0.  0.]\n",
      " [ 1.  0.  0.  0.  0.  0.  0.  0.  0.  0.  0.]\n",
      " [ 0.  0.  0.  0.  1.  0.  0.  0.  0.  0.  0.]\n",
      " [ 0.  1.  0.  0.  0.  0.  0.  0.  0.  0.  0.]\n",
      " [ 0.  1.  0.  0.  0.  0.  0.  0.  0.  0.  0.]] (5, 11)\n"
     ]
    },
    {
     "data": {
      "image/png": "[encoded data removed]",
      "text/plain": [
       "<matplotlib.figure.Figure at 0x2832472d668>"
      ]
     },
     "metadata": {},
     "output_type": "display_data"
    }
   ],
   "source": [
    "# test display\n",
    "plt.figure()\n",
    "rndsel = random.randint(0, len(train_data)-1)\n",
    "plt.imshow(train_data[rndsel][:, :, -1]) \n",
    "print('   0   1   2   3   4   5   6   7   8   9  B')\n",
    "print(train_labs[rndsel], train_labs[rndsel].shape)"
   ]
  },
  {
   "cell_type": "markdown",
   "metadata": {},
   "source": [
    "----\n",
    "## 步骤 2: 在真实数据集上训练一个模型\n",
    "\n",
    "一旦你确定好了一个好的模型架构，你就可以开始在真实的数据上训练你的模型了。特别地，[街景房屋门牌号(SVHN)](http://ufldl.stanford.edu/housenumbers/)数据集是一个大规模的，从谷歌街景数据中采集的门牌号数据。在这个更有挑战性的数据集（这里数字不是整齐排列的，并且会有各种倾斜、字体和颜色）上训练，可能意味着你必须做一些超参数探索以获得一个表现良好的模型。"
   ]
  },
  {
   "cell_type": "markdown",
   "metadata": {},
   "source": [
    "### 实现\n",
    "使用下面的代码单元（必要的话可以使用多个代码单元）来实现你项目。一旦你完成了你的实现并且获得了满意的结果，请确认全面回答下面相关的问题。"
   ]
  },
  {
   "cell_type": "code",
   "execution_count": 136,
   "metadata": {
    "collapsed": false
   },
   "outputs": [
    {
     "name": "stdout",
     "output_type": "stream",
     "text": [
      "SVHN_data/train already present - Skipping extraction of SVHN_data/train.tar.gz.\n",
      "['SVHN_data/train\\\\train']\n"
     ]
    },
    {
     "name": "stderr",
     "output_type": "stream",
     "text": [
      "C:\\Program Files\\Anaconda2\\envs\\tensorflow-gpu\\lib\\site-packages\\scipy\\ndimage\\interpolation.py:568: UserWarning: From scipy 0.13.0, the output shape of zoom() is calculated with round() instead of int() - for these inputs the size of the returned array has changed.\n",
      "  \"the returned array has changed.\", UserWarning)\n"
     ]
    },
    {
     "name": "stdout",
     "output_type": "stream",
     "text": [
      "skip 29929 [1, 3, 5, 4, 5, 8]\n",
      "SVHN_data/test already present - Skipping extraction of SVHN_data/test.tar.gz.\n",
      "['SVHN_data/test\\\\test']\n"
     ]
    }
   ],
   "source": [
    "### 在这里实现你的代码 \n",
    "### 必要的话你可以随意添加更多的代码单元 \n",
    "import svhn\n",
    "svhn = reload(svhn)\n",
    "\n",
    "dataset = svhn.read_data_sets(\"SVHN_data/\")\n",
    "\n",
    "train_images, train_labels = dataset['train_images'], dataset['train_labels']\n",
    "validation_images, validation_labels = dataset['validation_images'], dataset['validation_labels']\n",
    "test_images, test_labels = dataset['test_images'], dataset['test_labels']"
   ]
  },
  {
   "cell_type": "code",
   "execution_count": 146,
   "metadata": {
    "collapsed": false
   },
   "outputs": [
    {
     "data": {
      "text/plain": [
       "<matplotlib.image.AxesImage at 0x283f321fc88>"
      ]
     },
     "execution_count": 146,
     "metadata": {},
     "output_type": "execute_result"
    },
    {
     "data": {
      "image/png": "[encoded data removed]",
      "text/plain": [
       "<matplotlib.figure.Figure at 0x283f31ca550>"
      ]
     },
     "metadata": {},
     "output_type": "display_data"
    }
   ],
   "source": [
    "plt.figure()\n",
    "rndsel = random.randint(0, len(train_images)-1)\n",
    "plt.imshow(train_images[rndsel][:, :]) "
   ]
  },
  {
   "cell_type": "code",
   "execution_count": null,
   "metadata": {
    "collapsed": false
   },
   "outputs": [
    {
     "name": "stdout",
     "output_type": "stream",
     "text": [
      "Tensor(\"Placeholder:0\", dtype=float32)\n",
      "Tensor(\"predict/conv1/MaxPool:0\", shape=(?, 33, 75, 32), dtype=float32)\n",
      "Tensor(\"predict/conv2/MaxPool:0\", shape=(?, 17, 38, 64), dtype=float32)\n",
      "Tensor(\"predict/conv3/MaxPool:0\", shape=(?, 9, 19, 64), dtype=float32)\n",
      "Tensor(\"predict/fully_connected/dropout/mul:0\", shape=(?, 256), dtype=float32)\n",
      "[<tf.Tensor 'predict/out1/add:0' shape=(?, 11) dtype=float32>, <tf.Tensor 'predict/out2/add:0' shape=(?, 11) dtype=float32>, <tf.Tensor 'predict/out3/add:0' shape=(?, 11) dtype=float32>, <tf.Tensor 'predict/out4/add:0' shape=(?, 11) dtype=float32>, <tf.Tensor 'predict/out5/add:0' shape=(?, 11) dtype=float32>]\n",
      "Tensor(\"predict/conv1_1/MaxPool:0\", shape=(1000, 33, 75, 32), dtype=float32)\n",
      "Tensor(\"predict/conv2_1/MaxPool:0\", shape=(1000, 17, 38, 64), dtype=float32)\n",
      "Tensor(\"predict/conv3_1/MaxPool:0\", shape=(1000, 9, 19, 64), dtype=float32)\n",
      "Tensor(\"predict/fully_connected_1/Relu:0\", shape=(1000, 256), dtype=float32)\n",
      "Initialized\n",
      "Minibatch loss at step 0: 1197.218384\n",
      "Minibatch accuracy: 0.0%\n",
      "Test accuracy: 0.0%\n",
      "Minibatch loss at step 50: 5.877147\n",
      "Minibatch accuracy: 0.0%\n",
      "Test accuracy: 0.0%\n",
      "Minibatch loss at step 100: 5.629710\n",
      "Minibatch accuracy: 0.0%\n",
      "Test accuracy: 0.0%\n",
      "Minibatch loss at step 150: 5.565617\n",
      "Minibatch accuracy: 0.0%\n",
      "Test accuracy: 0.0%\n"
     ]
    }
   ],
   "source": [
    "helper = reload(helper)\n",
    "\n",
    "#fit model\n",
    "def argmaxlab_svhn(lab):\n",
    "    return np.argmax(lab.reshape(-1, num_seqlen, num_labels), 2)\n",
    "\n",
    "def accuracy_svhn(predictions, labels):\n",
    "    return (100.0 * np.sum(np.argmax(predictions) == np.argmax(labels))\n",
    "          / (predictions.shape[0] * num_seqlen))\n",
    "\n",
    "def my_loss_func(logits, tf_train_labs):\n",
    "    tf_train_labs_spd = tf.reshape(tf_train_labs, (-1, 5, 11))\n",
    "    def loss_one(i):\n",
    "        return tf.reduce_mean(\n",
    "            tf.nn.softmax_cross_entropy_with_logits(\n",
    "                logits[i], tf_train_labs_spd[:, i, :]\n",
    "            ))\n",
    "    return loss_one(0) + loss_one(1) + loss_one(2) + loss_one(3) + loss_one(4)\n",
    "    \n",
    "# Main Model\n",
    "def my_model_svhn(x_input, drop=None):\n",
    "    depth1, depth2, depth3, depth4 = 32, 64, 64, 256\n",
    "    with tf.variable_scope(\"conv1\"):\n",
    "        relu = helper.conv_relu(x_input, kernel_shape=[3, 3, 1, depth1],  pool=True)\n",
    "        \n",
    "    with tf.variable_scope(\"conv2\"):\n",
    "        relu = helper.conv_relu(relu, kernel_shape=[3, 3, depth1, depth2],  pool=True)\n",
    "        \n",
    "    with tf.variable_scope(\"conv3\"):\n",
    "        relu = helper.conv_relu(relu, kernel_shape=[3, 3, depth2, depth3], pool=True)\n",
    "        \n",
    "    with tf.variable_scope(\"fully_connected\"):\n",
    "        shape = relu.get_shape().as_list()\n",
    "        csize = shape[1] * shape[2] * shape[3]\n",
    "        reshape = tf.reshape(relu, [-1, csize])    \n",
    "        relu = helper.relu(reshape, kernel_shape=[csize, depth4], drop=drop)\n",
    "        \n",
    "    with tf.variable_scope(\"out1\"):\n",
    "        weights, biases = helper.var([depth4, num_labels]) #11\n",
    "        lg1 = tf.matmul(relu, weights) + biases\n",
    "    with tf.variable_scope(\"out2\"):        \n",
    "        weights, biases = helper.var([depth4, num_labels]) #11 \n",
    "        lg2 = tf.matmul(relu, weights) + biases\n",
    "    with tf.variable_scope(\"out3\"):\n",
    "        weights, biases = helper.var([depth4, num_labels]) #11 \n",
    "        lg3 = tf.matmul(relu, weights) + biases\n",
    "    with tf.variable_scope(\"out4\"):\n",
    "        weights, biases = helper.var([depth4, num_labels]) #11 \n",
    "        lg4 = tf.matmul(relu, weights) + biases\n",
    "    with tf.variable_scope(\"out5\"):\n",
    "        weights, biases = helper.var([depth4, num_labels]) #11 \n",
    "        lg5 = tf.matmul(relu, weights) + biases\n",
    "        loss_pack = [lg1, lg2, lg3, lg4, lg5, ]\n",
    "        return loss_pack, tf.pack([tf.nn.softmax(lg1), tf.nn.softmax(lg2), tf.nn.softmax(lg3),\n",
    "                                  tf.nn.softmax(lg4), tf.nn.softmax(lg5)])\n",
    "\n",
    "clf_svhn = helper.Learner(my_model_svhn, accuracy_svhn, \n",
    "                     steps=401, batch_size=128, learning_rate=0.01,\n",
    "                     loss=my_loss_func,\n",
    "                     optimizer=tf.train.AdadeltaOptimizer\n",
    "                     )\n",
    "\n",
    "clf_svhn.fit(train_images[:,:,:,None], train_labels, validation_images[:1000,:,:,None], validation_labels)"
   ]
  },
  {
   "cell_type": "code",
   "execution_count": 165,
   "metadata": {
    "collapsed": false
   },
   "outputs": [
    {
     "data": {
      "text/plain": [
       "<matplotlib.text.Text at 0x283fc52f470>"
      ]
     },
     "execution_count": 165,
     "metadata": {},
     "output_type": "execute_result"
    },
    {
     "data": {
      "image/png": "[encoded data removed]",
      "text/plain": [
       "<matplotlib.figure.Figure at 0x283fc5397b8>"
      ]
     },
     "metadata": {},
     "output_type": "display_data"
    }
   ],
   "source": [
    "#test predict\n",
    "sample_idx = np.random.randint(len(test_images))  # pick a random image index\n",
    "sample_image = test_images[sample_idx, :]  # extract a 2D slice\n",
    "plt.imshow(sample_image.reshape(66, 150))  # display it\n",
    "\n",
    "predict_lab = clf_svhn.predict(np.array([sample_image]))\n",
    "print(predict_lab)\n",
    "plt.xlabel( argmaxlab(predict_lab[0]) )"
   ]
  },
  {
   "cell_type": "markdown",
   "metadata": {},
   "source": [
    "### 问题 4\n",
    "_描述如何为模型准备训练和测试数据。 模型在真实数据集上表现怎么样？_"
   ]
  },
  {
   "cell_type": "markdown",
   "metadata": {},
   "source": [
    "**回答：**"
   ]
  },
  {
   "cell_type": "markdown",
   "metadata": {},
   "source": [
    "### 问题 5\n",
    "_你（在模型上）做了什么改变？如果做了一些改变，那么你得到一个“好的”结果了妈？有没有任何你探索的导致结果更糟？_"
   ]
  },
  {
   "cell_type": "markdown",
   "metadata": {},
   "source": [
    "**回答：**"
   ]
  },
  {
   "cell_type": "markdown",
   "metadata": {},
   "source": [
    "### 问题 6\n",
    "_当你在真实数据集做测试的时候你的初始结果和最终结果是什么？你认为你的模型在正确分类数字这个任务上上做的足够好吗？_"
   ]
  },
  {
   "cell_type": "markdown",
   "metadata": {},
   "source": [
    "**回答：**"
   ]
  },
  {
   "cell_type": "markdown",
   "metadata": {},
   "source": [
    "----\n",
    "## 步骤 3: 在新抓取的图片上测试模型\n",
    "\n",
    "在你周围拍摄几张数字的图片（至少五张），然后用你的分类器来预测产生结果。或者（可选），你可以尝试使用OpenCV / SimpleCV / Pygame从网络摄像头捕获实时图像，并通过你的分类器分析这些图像。"
   ]
  },
  {
   "cell_type": "markdown",
   "metadata": {},
   "source": [
    "### 实现\n",
    "使用下面的代码单元（必要的话可以使用多个代码单元）来实现你项目的。一旦你完成了你的实现并且获得了满意的结果，请确认全面回答下面相关的问题。"
   ]
  },
  {
   "cell_type": "code",
   "execution_count": null,
   "metadata": {
    "collapsed": true
   },
   "outputs": [],
   "source": [
    "\n",
    "\n",
    "### 在这里实现你的代码  \n",
    "### 必要的话你可以随意添加更多的代码单元 \n",
    "\n"
   ]
  },
  {
   "cell_type": "markdown",
   "metadata": {},
   "source": [
    "### 问题 7\n",
    "_选择在你周围拍摄的五张候选图片，并提供在报告中。它们中的某些图片是否有一些特殊的性质，可能会导致分类困难？_"
   ]
  },
  {
   "cell_type": "markdown",
   "metadata": {},
   "source": [
    "**回答:**"
   ]
  },
  {
   "cell_type": "markdown",
   "metadata": {},
   "source": [
    "### 问题 8\n",
    "_与在现实数据集上的测试结果相比，你的模型能够在捕获的图片或实时相机流上表现同样良好吗？_"
   ]
  },
  {
   "cell_type": "markdown",
   "metadata": {},
   "source": [
    "**回答:**"
   ]
  },
  {
   "cell_type": "markdown",
   "metadata": {},
   "source": [
    "### 可选: 问题 9\n",
    "_如果必要的话，请提供关于你是如何建立一个使得你的模型能够加载和分类新获取图像的接口的。_"
   ]
  },
  {
   "cell_type": "markdown",
   "metadata": {},
   "source": [
    "**回答:** 如果你没有完成这个部分，那么这一块请保留空白"
   ]
  },
  {
   "cell_type": "markdown",
   "metadata": {},
   "source": [
    "----\n",
    "### 步骤 4: 探索一种提升模型的方式\n",
    "\n",
    "一旦你基本的分类器训练好了，你就可以做很多事情。一个例子是：（在分类的同时）还能够定位图像上数字的位置。SVHN数据集提供边界框，你可以调试以训练一个定位器。训练一个关于坐标与边框的回归损失函数，然后测试它。"
   ]
  },
  {
   "cell_type": "markdown",
   "metadata": {},
   "source": [
    "### 实现\n",
    "使用下面的代码单元（必要的话可以使用多个代码单元）来实现你项目的。一旦你完成了你的实现并且获得了满意的结果，请确认全面回答下面相关的问题。"
   ]
  },
  {
   "cell_type": "code",
   "execution_count": null,
   "metadata": {
    "collapsed": true
   },
   "outputs": [],
   "source": [
    "\n",
    "\n",
    "### 在这里实现你的代码\n",
    "### 必要的话你可以随意添加更多的代码单元 \n",
    "\n"
   ]
  },
  {
   "cell_type": "markdown",
   "metadata": {},
   "source": [
    "### 问题 10\n",
    "_你的模型在真实数据的测试集上定位数字表现的怎么样？包含位置信息之后你的分类结果有变化吗？_"
   ]
  },
  {
   "cell_type": "markdown",
   "metadata": {},
   "source": [
    "**回答：**"
   ]
  },
  {
   "cell_type": "markdown",
   "metadata": {},
   "source": [
    "### 问题 11\n",
    "在你在**步骤3 **所捕获的图像上测试你的定位功能。模型是否准确计算出你找到的图像中的数字的边界框？如果你没有使用图形界面，您可能需要手动探索边界框。_提供一个在捕获的图像上创建边界框的示例_。"
   ]
  },
  {
   "cell_type": "markdown",
   "metadata": {},
   "source": [
    "**回答：**"
   ]
  },
  {
   "cell_type": "markdown",
   "metadata": {},
   "source": [
    "----\n",
    "## 可选步骤 5：为模型封装一个应用或者是程序\n",
    "\n",
    "为了让你的项目更进一步。如果你有兴趣，可以构建一个安卓应用程序，或者是一个更鲁棒的Python程序。这些程序能够和输入的图像交互，显示分类的数字甚至边界框。比如，你可以尝试通过将你的答案叠加在图像上像[Word Lens](https://en.wikipedia.org/wiki/Word_Lens)应用程序那样来构建一个增强现实应用程序。\n",
    "\n",
    "如何在安卓上的相机应用程序中加载TensorFlow的模型的示例代码在[TensorFlow Android demo app](https://github.com/tensorflow/tensorflow/tree/master/tensorflow/examples/android)中，你可以再这个基础上做一些简单的修改。\n",
    "\n",
    "\n",
    "如果你决定探索这条可选路径，请务必记录你的接口和实现，以及你找到的重要结果。你可以通过[点击这个链接](https://review.udacity.com/#!/rubrics/413/view)看到将被用来评价你的工作的相关条目。"
   ]
  },
  {
   "cell_type": "markdown",
   "metadata": {},
   "source": [
    "### 可选 实现\n",
    "使用下面的代码单元（必要的话可以使用多个代码单元）来实现你项目的。一旦你完成了你的实现并且获得了满意的结果，请确认全面回答下面相关的问题。"
   ]
  },
  {
   "cell_type": "code",
   "execution_count": null,
   "metadata": {
    "collapsed": true
   },
   "outputs": [],
   "source": [
    "\n",
    "\n",
    "### 在这里实现你的代码  \n",
    "### 必要的话你可以随意添加更多的代码单元 \n",
    "\n"
   ]
  },
  {
   "cell_type": "markdown",
   "metadata": {},
   "source": [
    "### 文档\n",
    "请提供额外的文档，这些文档要足以详细说明安卓应用程序或Python程序如何实现可视化图像中数字的分类。你的描述应该清楚描述程序或应用程序的工作原理并提供一些演示。"
   ]
  },
  {
   "cell_type": "markdown",
   "metadata": {},
   "source": [
    "_在这里写你的文档_"
   ]
  },
  {
   "cell_type": "markdown",
   "metadata": {},
   "source": [
    "> **注意:** 当你写完了所有的代码，并且回答了所有的问题。你就可以把你的 iPython Notebook 导出成 HTML 文件。你可以在菜单栏，这样导出**File -> Download as -> HTML (.html)**把这个 HTML 和这个 iPython notebook 一起做为你的作业提交。"
   ]
  }
 ],
 "metadata": {
  "anaconda-cloud": {},
  "kernelspec": {
   "display_name": "Python [conda env:tensorflow-gpu]",
   "language": "python",
   "name": "conda-env-tensorflow-gpu-py"
  },
  "language_info": {
   "codemirror_mode": {
    "name": "ipython",
    "version": 3
   },
   "file_extension": ".py",
   "mimetype": "text/x-python",
   "name": "python",
   "nbconvert_exporter": "python",
   "pygments_lexer": "ipython3",
   "version": "3.5.2"
  }
 },
 "nbformat": 4,
 "nbformat_minor": 0
}
