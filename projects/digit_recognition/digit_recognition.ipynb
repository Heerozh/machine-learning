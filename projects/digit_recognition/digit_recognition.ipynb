{
 "cells": [
  {
   "cell_type": "markdown",
   "metadata": {},
   "source": [
    "# 机器学习工程师纳米学位\n",
    "## 深度学习\n",
    "## 项目：搭建一个数字识别项目\n",
    "\n",
    "在此文件中，我们提供给你了一个模板，以便于你根据项目的要求一步步实现要求的功能，进而完成整个项目。如果你认为需要导入另外的一些代码，请确保你正确导入了他们，并且包含在你的提交文件中。以**'练习'**开始的标题表示接下来你将开始实现你的项目。注意有一些练习是可选的，并且用**'可选'**标记出来了。\n",
    "\n",
    "在此文件中，有些示例代码已经提供给你，但你还需要实现更多的功能让项目成功运行。除非有明确要求，你无须修改任何已给出的代码。以'练习'开始的标题表示接下来的代码部分中有你必须要实现的功能。每一部分都会有详细的指导，需要实现的部分也会在注释中以'TODO'标出。请仔细阅读所有的提示！\n",
    "\n",
    "除了实现代码外，你还必须回答一些与项目和你的实现有关的问题。每一个需要你回答的问题都会以**'问题 X'**为标题。请仔细阅读每个问题，并且在问题后的**'回答'**文字框中写出完整的答案。我们将根据你对问题的回答和撰写代码所实现的功能来对你提交的项目进行评分。\n",
    "\n",
    ">**注意：** Code 和 Markdown 区域可通过 **Shift + Enter** 快捷键运行。此外，Markdown可以通过双击进入编辑模式。"
   ]
  },
  {
   "cell_type": "markdown",
   "metadata": {},
   "source": [
    "----\n",
    "## 步骤 1: 设计并测试一个模型架构\n",
    "设计并实现一个能够识别数字序列的深度学习模型。你可以通过连接[notMNIST](http://yaroslavvb.blogspot.com/2011/09/notmnist-dataset.html)或者是[MNIST](http://yann.lecun.com/exdb/mnist/)的字符来合成数据来训练这个模型。为了产生用于测试的合成数字序列，你可以进行如下的设置：比如，你可以限制一个数据序列最多五个数字，并在你的深度网络上使用五个分类器。同时，你有必要准备一个额外的“空白”的字符，以处理相对较短的数字序列。\n",
    "\n",
    "在思考这个问题的时候有很多方面可以考虑：\n",
    "- 你的模型可以基于深度神经网络或者是卷积神经网络。\n",
    "- 你可以尝试是否在softmax分类器间共享权值。\n",
    "- 你还可以在深度神经网络中使用循环网络来替换其中的分类层，并且将数字序列里的数字一个一个地输出。\n",
    "\n",
    "你可以使用 Keras 来构建你的模型，[这里](https://keras.io/)了解更多。\n",
    "\n",
    "这里有一个[发表的关于这个问题的基准模型的论文](https://github.com/nd009/machine-learning/blob/zh-cn/projects/digit_recognition/42241.pdf) [（视频）](http://cn-static.udacity.com/mlnd/videos/ICLR14_%20Goodfellow.mp4)的例子。我们并不要求你构建的模型架构跟论文上一摸一样或者达到它那样的模型表现。这里紧紧是展示一个解决这个问题的例子。我们鼓励你采用不同的架构，来看看哪种表现对你来说最好。你也可以看论坛上关于论文中架构的[讨论](https://discussions.udacity.com/t/goodfellow-et-al-2013-architecture/202363)。"
   ]
  },
  {
   "cell_type": "markdown",
   "metadata": {},
   "source": [
    "### 实现\n",
    "使用下面的代码单元（必要的话可以使用多个代码单元）来实现你项目的第一步。一旦你完成了你的实现并且获得了满意的结果，请确认全面回答下面相关的问题。"
   ]
  },
  {
   "cell_type": "code",
   "execution_count": 1,
   "metadata": {
    "collapsed": false
   },
   "outputs": [
    {
     "name": "stdout",
     "output_type": "stream",
     "text": [
      "Extracting MNIST_data/train-images-idx3-ubyte.gz\n",
      "Extracting MNIST_data/train-labels-idx1-ubyte.gz\n",
      "Extracting MNIST_data/t10k-images-idx3-ubyte.gz\n",
      "Extracting MNIST_data/t10k-labels-idx1-ubyte.gz\n",
      "Extracting MNIST_data/train-images-idx3-ubyte.gz\n",
      "Extracting MNIST_data/train-labels-idx1-ubyte.gz\n",
      "Extracting MNIST_data/t10k-images-idx3-ubyte.gz\n",
      "Extracting MNIST_data/t10k-labels-idx1-ubyte.gz\n"
     ]
    }
   ],
   "source": [
    "from __future__ import print_function\n",
    "from imp import reload\n",
    "import numpy as np\n",
    "import matplotlib.pyplot as plt\n",
    "from IPython.display import display, Image\n",
    "import random\n",
    "import os\n",
    "\n",
    "import mnist_seq\n",
    "mnist_seq = reload(mnist_seq)\n",
    "\n",
    "%matplotlib inline\n",
    "\n",
    "num_seqlen = 5\n",
    "num_labels = mnist_seq.DIGITS\n",
    "\n",
    "# Generate training data\n",
    "random.seed(1)\n",
    "train_data, train_labs = mnist_seq.gen_data(10000, seqs=num_seqlen)\n",
    "test_data, test_labs = mnist_seq.gen_data(1000, test=True, seqs=num_seqlen)"
   ]
  },
  {
   "cell_type": "code",
   "execution_count": 58,
   "metadata": {
    "collapsed": false
   },
   "outputs": [],
   "source": [
    "import tensorflow as tf\n",
    "\n",
    "def argmaxlab(lab):\n",
    "    return np.argmax(lab.reshape(-1, num_seqlen, num_labels), 2)\n",
    "\n",
    "def accuracy(predictions, labels):\n",
    "    return (100.0 * np.sum(argmaxlab(predictions) == argmaxlab(labels))\n",
    "          / (predictions.shape[0] * num_seqlen))\n",
    "\n",
    "def accuracy_softmax(predictions, labels):\n",
    "    predictions = predictions.transpose(1, 0, 2)\n",
    "    return (100.0 * np.sum(argmaxlab(predictions) == argmaxlab(labels))\n",
    "          / (predictions.shape[0] * num_seqlen))\n",
    "\n",
    "def test_predict(clf, dat, h, w):\n",
    "    plt.figure()\n",
    "    sample_idx = np.random.randint(len(dat))  # pick a random image index\n",
    "    sample_image = dat[sample_idx, :]  # extract a 2D slice\n",
    "    plt.imshow(sample_image.reshape(h, w))  # display it\n",
    "    predict_lab = clf.predict(np.array([sample_image]))\n",
    "    plt.xlabel( argmaxlab(predict_lab) )"
   ]
  },
  {
   "cell_type": "markdown",
   "metadata": {},
   "source": [
    "## Sigmoid Model Test MNIST"
   ]
  },
  {
   "cell_type": "code",
   "execution_count": 15,
   "metadata": {
    "collapsed": false,
    "scrolled": true
   },
   "outputs": [
    {
     "name": "stdout",
     "output_type": "stream",
     "text": [
      "Tensor(\"Placeholder:0\", dtype=float32)\n",
      "Tensor(\"predict/conv1/MaxPool:0\", shape=(?, 14, 70, 32), dtype=float32)\n",
      "Tensor(\"predict/conv2/MaxPool:0\", shape=(?, 7, 35, 64), dtype=float32)\n",
      "Tensor(\"predict/conv3/MaxPool:0\", shape=(?, 4, 18, 64), dtype=float32)\n",
      "Tensor(\"predict/fully_connected/dropout/mul:0\", shape=(?, 256), dtype=float32)\n",
      "Tensor(\"predict/out/add:0\", shape=(?, 55), dtype=float32)\n",
      "Tensor(\"predict/conv1_1/MaxPool:0\", shape=(500, 14, 70, 32), dtype=float32)\n",
      "Tensor(\"predict/conv2_1/MaxPool:0\", shape=(500, 7, 35, 64), dtype=float32)\n",
      "Tensor(\"predict/conv3_1/MaxPool:0\", shape=(500, 4, 18, 64), dtype=float32)\n",
      "Tensor(\"predict/fully_connected_1/Relu:0\", shape=(500, 256), dtype=float32)\n",
      "Initialized\n",
      "Minibatch loss at step 0: 1.283407\n",
      "Minibatch accuracy: 8.1%\n",
      "Test accuracy: 6.4%\n",
      "Minibatch loss at step 50: 0.152292\n",
      "Minibatch accuracy: 66.2%\n",
      "Test accuracy: 70.9%\n",
      "Minibatch loss at step 100: 0.079374\n",
      "Minibatch accuracy: 86.2%\n",
      "Test accuracy: 91.9%\n",
      "Minibatch loss at step 150: 0.049077\n",
      "Minibatch accuracy: 95.0%\n",
      "Test accuracy: 95.2%\n",
      "Minibatch loss at step 200: 0.042275\n",
      "Minibatch accuracy: 94.5%\n",
      "Test accuracy: 97.1%\n",
      "Minibatch loss at step 250: 0.029055\n",
      "Minibatch accuracy: 96.9%\n",
      "Test accuracy: 97.3%\n",
      "Minibatch loss at step 300: 0.023298\n",
      "Minibatch accuracy: 97.3%\n",
      "Test accuracy: 97.5%\n",
      "Minibatch loss at step 350: 0.028921\n",
      "Minibatch accuracy: 97.7%\n",
      "Test accuracy: 97.6%\n",
      "Minibatch loss at step 400: 0.024892\n",
      "Minibatch accuracy: 96.1%\n",
      "Test accuracy: 98.2%\n",
      "Test accuracy: 98.2%\n"
     ]
    }
   ],
   "source": [
    "#sigmoid fit test\n",
    "import helper\n",
    "helper = reload(helper)\n",
    "\n",
    "def my_loss_func(logits, tf_train_labs):\n",
    "    return tf.reduce_mean(tf.nn.sigmoid_cross_entropy_with_logits(logits, tf_train_labs))\n",
    "\n",
    "# Main Model\n",
    "def my_model(x_input, drop=None):\n",
    "    depth1, depth2, depth3, depth4 = 32, 64, 64, 256\n",
    "    with tf.variable_scope(\"conv1\"):\n",
    "        relu = helper.conv_relu(x_input, kernel_shape=[3, 3, 1, depth1],  pool=True)\n",
    "        \n",
    "    with tf.variable_scope(\"conv2\"):\n",
    "        relu = helper.conv_relu(relu, kernel_shape=[3, 3, depth1, depth2],  pool=True)\n",
    "        \n",
    "    with tf.variable_scope(\"conv3\"):\n",
    "        relu = helper.conv_relu(relu, kernel_shape=[3, 3, depth2, depth3], pool=True)\n",
    "        \n",
    "    with tf.variable_scope(\"fully_connected\"):\n",
    "        shape = relu.get_shape().as_list()\n",
    "        csize = shape[1] * shape[2] * shape[3]\n",
    "        reshape = tf.reshape(relu, [-1, csize])    \n",
    "        relu = helper.relu(reshape, kernel_shape=[csize, depth4], drop=drop)\n",
    "        \n",
    "    with tf.variable_scope(\"out\"):\n",
    "        weights, biases = helper.var([depth4, num_labels * num_seqlen]) #11 * 5 = 55\n",
    "        logits = tf.matmul(relu, weights) + biases\n",
    "        return logits, tf.nn.sigmoid(logits)\n",
    "\n",
    "clf = helper.Learner(my_model, accuracy, \n",
    "                     steps=401, batch_size=128, learning_rate=0.005,\n",
    "                     loss=my_loss_func,\n",
    "                     optimizer=tf.train.AdamOptimizer\n",
    "                     )\n",
    "\n",
    "clf.fit(train_data[500:], train_labs[500:], test_data[:500], test_labs[:500])"
   ]
  },
  {
   "cell_type": "code",
   "execution_count": 27,
   "metadata": {
    "collapsed": false
   },
   "outputs": [
    {
     "data": {
      "image/png": "[encoded data removed]",
      "text/plain": [
       "<matplotlib.figure.Figure at 0x21d7c3df4e0>"
      ]
     },
     "metadata": {},
     "output_type": "display_data"
    }
   ],
   "source": [
    "test_predict(clf, test_data, 28, 28*5)"
   ]
  },
  {
   "cell_type": "markdown",
   "metadata": {},
   "source": [
    "## Softmax Model Test MNIST"
   ]
  },
  {
   "cell_type": "code",
   "execution_count": 30,
   "metadata": {
    "collapsed": false,
    "scrolled": true
   },
   "outputs": [
    {
     "name": "stdout",
     "output_type": "stream",
     "text": [
      "Tensor(\"Placeholder:0\", dtype=float32)\n",
      "Tensor(\"predict/conv1/MaxPool:0\", shape=(?, 14, 70, 32), dtype=float32)\n",
      "Tensor(\"predict/conv2/MaxPool:0\", shape=(?, 7, 35, 64), dtype=float32)\n",
      "Tensor(\"predict/conv3/MaxPool:0\", shape=(?, 4, 18, 128), dtype=float32)\n",
      "Tensor(\"predict/fully_connected/dropout/mul:0\", shape=(?, 192), dtype=float32)\n",
      "Tensor(\"predict/relu1/Relu:0\", shape=(?, 192), dtype=float32)\n",
      "Tensor(\"predict/relu2/Relu:0\", shape=(?, 192), dtype=float32)\n",
      "Tensor(\"predict/relu3/Relu:0\", shape=(?, 192), dtype=float32)\n",
      "Tensor(\"predict/relu4/Relu:0\", shape=(?, 192), dtype=float32)\n",
      "Tensor(\"predict/relu5/Relu:0\", shape=(?, 192), dtype=float32)\n",
      "[<tf.Tensor 'predict/out1/add:0' shape=(?, 11) dtype=float32>, <tf.Tensor 'predict/out2/add:0' shape=(?, 11) dtype=float32>, <tf.Tensor 'predict/out3/add:0' shape=(?, 11) dtype=float32>, <tf.Tensor 'predict/out4/add:0' shape=(?, 11) dtype=float32>, <tf.Tensor 'predict/out5/add:0' shape=(?, 11) dtype=float32>]\n",
      "Tensor(\"predict/conv1_1/MaxPool:0\", shape=(500, 14, 70, 32), dtype=float32)\n",
      "Tensor(\"predict/conv2_1/MaxPool:0\", shape=(500, 7, 35, 64), dtype=float32)\n",
      "Tensor(\"predict/conv3_1/MaxPool:0\", shape=(500, 4, 18, 128), dtype=float32)\n",
      "Tensor(\"predict/fully_connected_1/Relu:0\", shape=(500, 192), dtype=float32)\n",
      "Tensor(\"predict/relu1_1/Relu:0\", shape=(500, 192), dtype=float32)\n",
      "Tensor(\"predict/relu2_1/Relu:0\", shape=(500, 192), dtype=float32)\n",
      "Tensor(\"predict/relu3_1/Relu:0\", shape=(500, 192), dtype=float32)\n",
      "Tensor(\"predict/relu4_1/Relu:0\", shape=(500, 192), dtype=float32)\n",
      "Tensor(\"predict/relu5_1/Relu:0\", shape=(500, 192), dtype=float32)\n",
      "Initialized\n",
      "Minibatch loss at step 0: 16.295809\n",
      "Minibatch accuracy: 7.5%\n",
      "Test accuracy: 7.7%\n",
      "Minibatch loss at step 50: 6.987406\n",
      "Minibatch accuracy: 48.4%\n",
      "Test accuracy: 53.7%\n",
      "Minibatch loss at step 100: 3.874602\n",
      "Minibatch accuracy: 73.1%\n",
      "Test accuracy: 80.4%\n",
      "Minibatch loss at step 150: 2.742293\n",
      "Minibatch accuracy: 83.6%\n",
      "Test accuracy: 91.0%\n",
      "Minibatch loss at step 200: 1.928178\n",
      "Minibatch accuracy: 86.2%\n",
      "Test accuracy: 94.8%\n",
      "Minibatch loss at step 250: 1.431669\n",
      "Minibatch accuracy: 89.7%\n",
      "Test accuracy: 95.8%\n",
      "Minibatch loss at step 300: 1.029501\n",
      "Minibatch accuracy: 92.5%\n",
      "Test accuracy: 96.3%\n",
      "Minibatch loss at step 350: 1.078696\n",
      "Minibatch accuracy: 92.5%\n",
      "Test accuracy: 97.1%\n",
      "Minibatch loss at step 400: 0.856260\n",
      "Minibatch accuracy: 93.8%\n",
      "Test accuracy: 97.0%\n",
      "Minibatch loss at step 450: 0.942179\n",
      "Minibatch accuracy: 93.9%\n",
      "Test accuracy: 97.0%\n",
      "Minibatch loss at step 500: 0.885026\n",
      "Minibatch accuracy: 93.6%\n",
      "Test accuracy: 97.6%\n",
      "Minibatch loss at step 550: 0.729021\n",
      "Minibatch accuracy: 94.2%\n",
      "Test accuracy: 97.8%\n",
      "Minibatch loss at step 600: 0.978089\n",
      "Minibatch accuracy: 93.8%\n",
      "Test accuracy: 97.4%\n",
      "Minibatch loss at step 650: 0.736355\n",
      "Minibatch accuracy: 95.2%\n",
      "Test accuracy: 97.8%\n",
      "Minibatch loss at step 700: 0.453063\n",
      "Minibatch accuracy: 96.7%\n",
      "Test accuracy: 98.1%\n",
      "Test accuracy: 98.1%\n"
     ]
    }
   ],
   "source": [
    "helper = reload(helper)\n",
    "\n",
    "#fit model\n",
    "def my_softmax_loss_func(logits, tf_train_labs):\n",
    "    tf_train_labs_spd = tf.reshape(tf_train_labs, (-1, 5, 11))\n",
    "    def loss_one(i):\n",
    "#         print(logits[i].get_shape().ndims, tf_train_labs_spd[:, i])\n",
    "        return tf.reduce_mean(\n",
    "            tf.nn.softmax_cross_entropy_with_logits(\n",
    "                logits[i], tf_train_labs_spd[:, i]\n",
    "            ))\n",
    "    return loss_one(0) + loss_one(1) + loss_one(2) + loss_one(3) + loss_one(4)\n",
    "    \n",
    "# Main Model\n",
    "def my_softmax_model(x_input, drop=None):\n",
    "    depth1, depth2, depth3, depth4 = 32, 64, 128, 192\n",
    "    with tf.variable_scope(\"conv1\"):\n",
    "        relu = helper.conv_relu(x_input, kernel_shape=[3, 3, 1, depth1],  pool=True)\n",
    "        \n",
    "    with tf.variable_scope(\"conv2\"):\n",
    "        relu = helper.conv_relu(relu, kernel_shape=[3, 3, depth1, depth2],  pool=True)\n",
    "        \n",
    "    with tf.variable_scope(\"conv3\"):\n",
    "        relu = helper.conv_relu(relu, kernel_shape=[3, 3, depth2, depth3], pool=True)\n",
    "        \n",
    "    with tf.variable_scope(\"fully_connected\"):\n",
    "        shape = relu.get_shape().as_list()\n",
    "        csize = shape[1] * shape[2] * shape[3]\n",
    "        reshape = tf.reshape(relu, [-1, csize])    \n",
    "        relu = helper.relu(reshape, kernel_shape=[csize, depth4], drop=drop)\n",
    "        \n",
    "    with tf.variable_scope(\"relu1\"):\n",
    "        relu1 = helper.relu(relu, kernel_shape=[depth4, depth4])\n",
    "    with tf.variable_scope(\"relu2\"):        \n",
    "        relu2 = helper.relu(relu, kernel_shape=[depth4, depth4])\n",
    "    with tf.variable_scope(\"relu3\"):\n",
    "        relu3 = helper.relu(relu, kernel_shape=[depth4, depth4])\n",
    "    with tf.variable_scope(\"relu4\"):\n",
    "        relu4 = helper.relu(relu, kernel_shape=[depth4, depth4])\n",
    "    with tf.variable_scope(\"relu5\"):\n",
    "        relu5 = helper.relu(relu, kernel_shape=[depth4, depth4])     \n",
    "        \n",
    "    with tf.variable_scope(\"out1\"):\n",
    "        weights, biases = helper.var([depth4, num_labels]) #11\n",
    "        lg1 = tf.matmul(relu1, weights) + biases\n",
    "    with tf.variable_scope(\"out2\"):        \n",
    "        weights, biases = helper.var([depth4, num_labels]) #11 \n",
    "        lg2 = tf.matmul(relu2, weights) + biases\n",
    "    with tf.variable_scope(\"out3\"):\n",
    "        weights, biases = helper.var([depth4, num_labels]) #11 \n",
    "        lg3 = tf.matmul(relu3, weights) + biases\n",
    "    with tf.variable_scope(\"out4\"):\n",
    "        weights, biases = helper.var([depth4, num_labels]) #11 \n",
    "        lg4 = tf.matmul(relu4, weights) + biases\n",
    "    with tf.variable_scope(\"out5\"):\n",
    "        weights, biases = helper.var([depth4, num_labels]) #11 \n",
    "        lg5 = tf.matmul(relu5, weights) + biases\n",
    "        loss_pack = [lg1, lg2, lg3, lg4, lg5, ]\n",
    "        return loss_pack, tf.pack([tf.nn.softmax(lg1), tf.nn.softmax(lg2), tf.nn.softmax(lg3),\n",
    "                                  tf.nn.softmax(lg4), tf.nn.softmax(lg5)])\n",
    "\n",
    "clf_sm = helper.Learner(my_softmax_model, accuracy_softmax, \n",
    "                     steps=701, batch_size=128, learning_rate=0.005,\n",
    "                     loss=my_softmax_loss_func,\n",
    "                     optimizer=tf.train.AdamOptimizer\n",
    "                     )\n",
    "\n",
    "clf_sm.fit(train_data[500:], train_labs[500:], test_data[:500], test_labs[:500])"
   ]
  },
  {
   "cell_type": "code",
   "execution_count": 34,
   "metadata": {
    "collapsed": false
   },
   "outputs": [
    {
     "data": {
      "image/png": "[encoded data removed]",
      "text/plain": [
       "<matplotlib.figure.Figure at 0x21cde839630>"
      ]
     },
     "metadata": {},
     "output_type": "display_data"
    },
    {
     "data": {
      "image/png": "[encoded data removed]",
      "text/plain": [
       "<matplotlib.figure.Figure at 0x21d71e90080>"
      ]
     },
     "metadata": {},
     "output_type": "display_data"
    }
   ],
   "source": [
    "test_predict(clf_sm, test_data, 28, 28*5)\n",
    "test_predict(clf_sm, test_data, 28, 28*5)"
   ]
  },
  {
   "cell_type": "markdown",
   "metadata": {},
   "source": [
    "### 问题 1\n",
    "_你为解决这个问题采取了什么方法？_"
   ]
  },
  {
   "cell_type": "markdown",
   "metadata": {},
   "source": [
    "**回答：** 由于是图像识别，所以我考虑了使用卷积+池化来做。困难的是输出方面，我想用单层输出，考虑到单层输出5个的话无法用softmax来计算loss，所以我决定采用sigmoid。最后实验下来效果不错，但不知道能否用到实际数据上。另外我也用softmax做5个输出试了一下，希望用到下面的题目中对比。"
   ]
  },
  {
   "cell_type": "markdown",
   "metadata": {},
   "source": [
    "### 问题 2\n",
    "_你最终的模型架构是什么样的？（什么类型的模型，层数，大小, 连接性等）_"
   ]
  },
  {
   "cell_type": "markdown",
   "metadata": {},
   "source": [
    "**回答：** 我采取了3个卷积层加池化，1个relu全连接层+drop，最后一个输出层, 输出一个5x11的矩阵，用sigmoid计算loss的训练方法来解决这个问题。另一个softmax最后在全连层后面加了2层的输出层，用于输出5个数据预测。"
   ]
  },
  {
   "cell_type": "markdown",
   "metadata": {},
   "source": [
    "### 问题 3\n",
    "_你是如何训练你的模型的？你是如何合成数据集的？_请同时包括你创建的合成数据中的一些示例图像。"
   ]
  },
  {
   "cell_type": "markdown",
   "metadata": {},
   "source": [
    "**回答：** 使用了128一个批次进行训练，训练了400步。数据合成方式是先rand获得数字长度，然后从所有数据里随机选择数字图片，采用hstack合成一副28*140的图像。"
   ]
  },
  {
   "cell_type": "code",
   "execution_count": 8,
   "metadata": {
    "collapsed": false
   },
   "outputs": [
    {
     "name": "stdout",
     "output_type": "stream",
     "text": [
      "   0   1   2   3   4   5   6   7   8   9  B\n",
      "[[ 0.  1.  0.  0.  0.  0.  0.  0.  0.  0.  0.]\n",
      " [ 1.  0.  0.  0.  0.  0.  0.  0.  0.  0.  0.]\n",
      " [ 0.  0.  0.  0.  1.  0.  0.  0.  0.  0.  0.]\n",
      " [ 0.  1.  0.  0.  0.  0.  0.  0.  0.  0.  0.]\n",
      " [ 0.  1.  0.  0.  0.  0.  0.  0.  0.  0.  0.]] (5, 11)\n"
     ]
    },
    {
     "data": {
      "image/png": "[encoded data removed]",
      "text/plain": [
       "<matplotlib.figure.Figure at 0x2832472d668>"
      ]
     },
     "metadata": {},
     "output_type": "display_data"
    }
   ],
   "source": [
    "# test display\n",
    "plt.figure()\n",
    "rndsel = random.randint(0, len(train_data)-1)\n",
    "plt.imshow(train_data[rndsel][:, :, -1]) \n",
    "print('   0   1   2   3   4   5   6   7   8   9  B')\n",
    "print(train_labs[rndsel], train_labs[rndsel].shape)"
   ]
  },
  {
   "cell_type": "markdown",
   "metadata": {},
   "source": [
    "----\n",
    "## 步骤 2: 在真实数据集上训练一个模型\n",
    "\n",
    "一旦你确定好了一个好的模型架构，你就可以开始在真实的数据上训练你的模型了。特别地，[街景房屋门牌号(SVHN)](http://ufldl.stanford.edu/housenumbers/)数据集是一个大规模的，从谷歌街景数据中采集的门牌号数据。在这个更有挑战性的数据集（这里数字不是整齐排列的，并且会有各种倾斜、字体和颜色）上训练，可能意味着你必须做一些超参数探索以获得一个表现良好的模型。"
   ]
  },
  {
   "cell_type": "markdown",
   "metadata": {},
   "source": [
    "### 实现\n",
    "使用下面的代码单元（必要的话可以使用多个代码单元）来实现你项目。一旦你完成了你的实现并且获得了满意的结果，请确认全面回答下面相关的问题。"
   ]
  },
  {
   "cell_type": "code",
   "execution_count": 96,
   "metadata": {
    "collapsed": false
   },
   "outputs": [
    {
     "name": "stdout",
     "output_type": "stream",
     "text": [
      "SVHN_data/train already present - Skipping extraction of SVHN_data/train.tar.gz.\n",
      "['SVHN_data/train\\\\train']\n"
     ]
    },
    {
     "name": "stderr",
     "output_type": "stream",
     "text": [
      "C:\\Program Files\\Anaconda2\\envs\\tensorflow-gpu\\lib\\site-packages\\scipy\\ndimage\\interpolation.py:568: UserWarning: From scipy 0.13.0, the output shape of zoom() is calculated with round() instead of int() - for these inputs the size of the returned array has changed.\n",
      "  \"the returned array has changed.\", UserWarning)\n"
     ]
    },
    {
     "name": "stdout",
     "output_type": "stream",
     "text": [
      "skip 29929 [1, 3, 5, 4, 5, 8]\n",
      "SVHN_data/test already present - Skipping extraction of SVHN_data/test.tar.gz.\n",
      "['SVHN_data/test\\\\test']\n"
     ]
    }
   ],
   "source": [
    "### 在这里实现你的代码 \n",
    "### 必要的话你可以随意添加更多的代码单元 \n",
    "import svhn\n",
    "svhn = reload(svhn)\n",
    "\n",
    "#copy svhn tar.gz to this folder, or else will download it.\n",
    "dataset = svhn.read_data_sets(\"SVHN_data/\")\n",
    "\n",
    "train_images, train_labels = dataset['train_images'], dataset['train_labels']\n",
    "validation_images, validation_labels = dataset['validation_images'], dataset['validation_labels']\n",
    "test_images, test_labels = dataset['test_images'], dataset['test_labels']"
   ]
  },
  {
   "cell_type": "code",
   "execution_count": 97,
   "metadata": {
    "collapsed": false
   },
   "outputs": [
    {
     "name": "stdout",
     "output_type": "stream",
     "text": [
      "   0   1   2   3   4   5   6   7   8   9  B\n",
      "[[ 0.  0.  0.  0.  0.  0.  0.  0.  0.  1.  0.]\n",
      " [ 0.  0.  0.  0.  0.  0.  0.  0.  0.  1.  0.]\n",
      " [ 0.  0.  0.  0.  0.  0.  0.  0.  0.  0.  1.]\n",
      " [ 0.  0.  0.  0.  0.  0.  0.  0.  0.  0.  1.]\n",
      " [ 0.  0.  0.  0.  0.  0.  0.  0.  0.  0.  1.]] (5, 11)\n",
      "343\n"
     ]
    },
    {
     "data": {
      "image/png": "[encoded data removed]",
      "text/plain": [
       "<matplotlib.figure.Figure at 0x21d9b7431d0>"
      ]
     },
     "metadata": {},
     "output_type": "display_data"
    }
   ],
   "source": [
    "plt.figure()\n",
    "rndsel = random.randint(0, len(validation_images)-1)\n",
    "plt.imshow(validation_images[rndsel][:, :]) \n",
    "print('   0   1   2   3   4   5   6   7   8   9  B')\n",
    "print(validation_labels[rndsel], validation_labels[rndsel].shape)\n",
    "print(rndsel)"
   ]
  },
  {
   "cell_type": "markdown",
   "metadata": {},
   "source": [
    "## Sigmoid Test SVHN"
   ]
  },
  {
   "cell_type": "code",
   "execution_count": 126,
   "metadata": {
    "collapsed": false,
    "scrolled": true
   },
   "outputs": [
    {
     "name": "stdout",
     "output_type": "stream",
     "text": [
      "Tensor(\"Placeholder:0\", dtype=float32)\n",
      "Tensor(\"predict/conv1/MaxPool:0\", shape=(?, 32, 64, 32), dtype=float32)\n",
      "Tensor(\"predict/conv2/MaxPool:0\", shape=(?, 16, 32, 64), dtype=float32)\n",
      "Tensor(\"predict/conv3/MaxPool:0\", shape=(?, 8, 16, 64), dtype=float32)\n",
      "Tensor(\"predict/fully_connected/dropout/mul:0\", shape=(?, 512), dtype=float32)\n",
      "Tensor(\"predict/out/add:0\", shape=(?, 55), dtype=float32)\n",
      "Tensor(\"predict/conv1_1/MaxPool:0\", shape=(128, 32, 64, 32), dtype=float32)\n",
      "Tensor(\"predict/conv2_1/MaxPool:0\", shape=(128, 16, 32, 64), dtype=float32)\n",
      "Tensor(\"predict/conv3_1/MaxPool:0\", shape=(128, 8, 16, 64), dtype=float32)\n",
      "Tensor(\"predict/fully_connected_1/Relu:0\", shape=(128, 512), dtype=float32)\n",
      "Initialized\n",
      "Minibatch loss at step 0: 0.827629\n",
      "Minibatch accuracy: 9.4%\n",
      "Test accuracy: 7.2%\n",
      "Minibatch loss at step 50: 0.174294\n",
      "Minibatch accuracy: 58.6%\n",
      "Test accuracy: 62.5%\n",
      "Minibatch loss at step 100: 0.163240\n",
      "Minibatch accuracy: 60.3%\n",
      "Test accuracy: 63.0%\n",
      "Minibatch loss at step 150: 0.167593\n",
      "Minibatch accuracy: 58.6%\n",
      "Test accuracy: 63.6%\n",
      "Minibatch loss at step 200: 0.155286\n",
      "Minibatch accuracy: 61.7%\n",
      "Test accuracy: 63.4%\n",
      "Minibatch loss at step 250: 0.150479\n",
      "Minibatch accuracy: 62.7%\n",
      "Test accuracy: 64.1%\n",
      "Minibatch loss at step 300: 0.146726\n",
      "Minibatch accuracy: 64.4%\n",
      "Test accuracy: 66.2%\n",
      "Minibatch loss at step 350: 0.139854\n",
      "Minibatch accuracy: 65.6%\n",
      "Test accuracy: 68.4%\n",
      "Minibatch loss at step 400: 0.121471\n",
      "Minibatch accuracy: 73.1%\n",
      "Test accuracy: 72.3%\n",
      "Minibatch loss at step 450: 0.126276\n",
      "Minibatch accuracy: 71.6%\n",
      "Test accuracy: 73.6%\n",
      "Minibatch loss at step 500: 0.126104\n",
      "Minibatch accuracy: 72.7%\n",
      "Test accuracy: 73.4%\n",
      "Minibatch loss at step 550: 0.109298\n",
      "Minibatch accuracy: 74.4%\n",
      "Test accuracy: 76.1%\n",
      "Minibatch loss at step 600: 0.116544\n",
      "Minibatch accuracy: 75.8%\n",
      "Test accuracy: 76.1%\n",
      "Minibatch loss at step 650: 0.099438\n",
      "Minibatch accuracy: 79.4%\n",
      "Test accuracy: 77.0%\n",
      "Minibatch loss at step 700: 0.114832\n",
      "Minibatch accuracy: 73.3%\n",
      "Test accuracy: 76.9%\n",
      "Minibatch loss at step 750: 0.109733\n",
      "Minibatch accuracy: 74.7%\n",
      "Test accuracy: 78.6%\n",
      "Minibatch loss at step 800: 0.098843\n",
      "Minibatch accuracy: 79.1%\n",
      "Test accuracy: 79.2%\n",
      "Minibatch loss at step 850: 0.087369\n",
      "Minibatch accuracy: 80.0%\n",
      "Test accuracy: 78.8%\n",
      "Minibatch loss at step 900: 0.082997\n",
      "Minibatch accuracy: 82.5%\n",
      "Test accuracy: 79.5%\n",
      "Minibatch loss at step 950: 0.105692\n",
      "Minibatch accuracy: 77.0%\n",
      "Test accuracy: 80.3%\n",
      "Minibatch loss at step 1000: 0.093072\n",
      "Minibatch accuracy: 79.8%\n",
      "Test accuracy: 80.3%\n",
      "Minibatch loss at step 1050: 0.095656\n",
      "Minibatch accuracy: 79.8%\n",
      "Test accuracy: 81.2%\n",
      "Minibatch loss at step 1100: 0.093493\n",
      "Minibatch accuracy: 79.2%\n",
      "Test accuracy: 81.2%\n",
      "Minibatch loss at step 1150: 0.082094\n",
      "Minibatch accuracy: 83.1%\n",
      "Test accuracy: 81.1%\n",
      "Minibatch loss at step 1200: 0.081755\n",
      "Minibatch accuracy: 82.8%\n",
      "Test accuracy: 81.2%\n",
      "Minibatch loss at step 1250: 0.093345\n",
      "Minibatch accuracy: 80.6%\n",
      "Test accuracy: 82.8%\n",
      "Minibatch loss at step 1300: 0.083261\n",
      "Minibatch accuracy: 82.3%\n",
      "Test accuracy: 82.0%\n",
      "Minibatch loss at step 1350: 0.083970\n",
      "Minibatch accuracy: 81.9%\n",
      "Test accuracy: 82.3%\n",
      "Minibatch loss at step 1400: 0.090499\n",
      "Minibatch accuracy: 81.1%\n",
      "Test accuracy: 82.3%\n",
      "Minibatch loss at step 1450: 0.093087\n",
      "Minibatch accuracy: 80.0%\n",
      "Test accuracy: 81.7%\n",
      "Minibatch loss at step 1500: 0.074777\n",
      "Minibatch accuracy: 85.9%\n",
      "Test accuracy: 82.5%\n",
      "Minibatch loss at step 1550: 0.075806\n",
      "Minibatch accuracy: 84.4%\n",
      "Test accuracy: 83.3%\n",
      "Minibatch loss at step 1600: 0.080855\n",
      "Minibatch accuracy: 81.2%\n",
      "Test accuracy: 82.2%\n",
      "Minibatch loss at step 1650: 0.067654\n",
      "Minibatch accuracy: 86.2%\n",
      "Test accuracy: 84.2%\n",
      "Minibatch loss at step 1700: 0.071565\n",
      "Minibatch accuracy: 85.5%\n",
      "Test accuracy: 83.1%\n",
      "Minibatch loss at step 1750: 0.071419\n",
      "Minibatch accuracy: 84.8%\n",
      "Test accuracy: 83.4%\n",
      "Minibatch loss at step 1800: 0.076924\n",
      "Minibatch accuracy: 84.8%\n",
      "Test accuracy: 84.4%\n",
      "Minibatch loss at step 1850: 0.062861\n",
      "Minibatch accuracy: 85.2%\n",
      "Test accuracy: 83.4%\n",
      "Minibatch loss at step 1900: 0.071535\n",
      "Minibatch accuracy: 85.0%\n",
      "Test accuracy: 83.6%\n",
      "Minibatch loss at step 1950: 0.070605\n",
      "Minibatch accuracy: 85.2%\n",
      "Test accuracy: 84.2%\n",
      "Minibatch loss at step 2000: 0.065458\n",
      "Minibatch accuracy: 87.5%\n",
      "Test accuracy: 82.5%\n",
      "Minibatch loss at step 2050: 0.058935\n",
      "Minibatch accuracy: 89.2%\n",
      "Test accuracy: 83.3%\n",
      "Minibatch loss at step 2100: 0.057278\n",
      "Minibatch accuracy: 88.9%\n",
      "Test accuracy: 84.5%\n",
      "Minibatch loss at step 2150: 0.059605\n",
      "Minibatch accuracy: 87.7%\n",
      "Test accuracy: 84.2%\n",
      "Minibatch loss at step 2200: 0.062895\n",
      "Minibatch accuracy: 88.0%\n",
      "Test accuracy: 83.4%\n",
      "Minibatch loss at step 2250: 0.059631\n",
      "Minibatch accuracy: 87.2%\n",
      "Test accuracy: 83.4%\n",
      "Minibatch loss at step 2300: 0.050059\n",
      "Minibatch accuracy: 90.0%\n",
      "Test accuracy: 83.9%\n",
      "Minibatch loss at step 2350: 0.060729\n",
      "Minibatch accuracy: 87.5%\n",
      "Test accuracy: 84.8%\n",
      "Minibatch loss at step 2400: 0.042374\n",
      "Minibatch accuracy: 92.7%\n",
      "Test accuracy: 83.1%\n",
      "Test accuracy: 83.1%\n"
     ]
    }
   ],
   "source": [
    "helper = reload(helper)\n",
    "\n",
    "def my_model(x_input, drop=None):\n",
    "    depth1, depth2, depth3, depth4 = 32, 64, 64, 512\n",
    "    with tf.variable_scope(\"conv1\"):\n",
    "        relu = helper.conv_relu(x_input, kernel_shape=[3, 3, 1, depth1],  pool=True)\n",
    "        relu = tf.nn.local_response_normalization(relu)\n",
    "        \n",
    "    with tf.variable_scope(\"conv2\"):\n",
    "        relu = helper.conv_relu(relu, kernel_shape=[3, 3, depth1, depth2],  pool=True)\n",
    "        relu = tf.nn.local_response_normalization(relu)\n",
    "        \n",
    "    with tf.variable_scope(\"conv3\"):\n",
    "        relu = helper.conv_relu(relu, kernel_shape=[3, 3, depth2, depth3], pool=True)\n",
    "        relu = tf.nn.local_response_normalization(relu)\n",
    "        \n",
    "    with tf.variable_scope(\"fully_connected\"):\n",
    "        shape = relu.get_shape().as_list()\n",
    "        csize = shape[1] * shape[2] * shape[3]\n",
    "        reshape = tf.reshape(relu, [-1, csize])    \n",
    "        relu = helper.relu(reshape, kernel_shape=[csize, depth4], drop=drop)\n",
    "        \n",
    "    with tf.variable_scope(\"out\"):\n",
    "        weights, biases = helper.var([depth4, num_labels * num_seqlen]) #11 * 5 = 55\n",
    "        logits = tf.matmul(relu, weights) + biases\n",
    "        return logits, tf.nn.sigmoid(logits)\n",
    "    \n",
    "clf = helper.Learner(my_model, accuracy, \n",
    "                     steps=2401, batch_size=128, learning_rate=0.001,\n",
    "                     loss=my_loss_func,\n",
    "                     optimizer=tf.train.AdamOptimizer,\n",
    "                     drop=0.65\n",
    "                     )\n",
    "\n",
    "clf.fit(train_images[:,:,:,None], train_labels, validation_images[:128,:,:,None], validation_labels[:128])"
   ]
  },
  {
   "cell_type": "code",
   "execution_count": 127,
   "metadata": {
    "collapsed": false
   },
   "outputs": [
    {
     "data": {
      "text/plain": [
       "74.540000000000006"
      ]
     },
     "execution_count": 127,
     "metadata": {},
     "output_type": "execute_result"
    }
   ],
   "source": [
    "predict_lab = clf.predict(test_images[:1000])\n",
    "accuracy(predict_lab, test_labels[:1000])"
   ]
  },
  {
   "cell_type": "code",
   "execution_count": 131,
   "metadata": {
    "collapsed": false
   },
   "outputs": [
    {
     "data": {
      "image/png": "[encoded data removed]",
      "text/plain": [
       "<matplotlib.figure.Figure at 0x21d7279cc50>"
      ]
     },
     "metadata": {},
     "output_type": "display_data"
    },
    {
     "data": {
      "image/png": "[encoded data removed]",
      "text/plain": [
       "<matplotlib.figure.Figure at 0x21e0480ccc0>"
      ]
     },
     "metadata": {},
     "output_type": "display_data"
    }
   ],
   "source": [
    "test_predict(clf, train_images, 64, 128)\n",
    "test_predict(clf, test_images, 64, 128)"
   ]
  },
  {
   "cell_type": "code",
   "execution_count": 559,
   "metadata": {
    "collapsed": false
   },
   "outputs": [
    {
     "name": "stdout",
     "output_type": "stream",
     "text": [
      "Tensor(\"Placeholder:0\", dtype=float32)\n",
      "Tensor(\"predict/conv1/MaxPool:0\", shape=(?, 32, 64, 32), dtype=float32)\n",
      "Tensor(\"predict/conv2/MaxPool:0\", shape=(?, 16, 32, 64), dtype=float32)\n",
      "Tensor(\"predict/conv3/MaxPool:0\", shape=(?, 8, 16, 128), dtype=float32)\n",
      "Tensor(\"predict/fully_connected/dropout/mul:0\", shape=(?, 192), dtype=float32)\n",
      "Tensor(\"predict/relu1/Relu:0\", shape=(?, 192), dtype=float32)\n",
      "Tensor(\"predict/relu2/Relu:0\", shape=(?, 192), dtype=float32)\n",
      "Tensor(\"predict/relu3/Relu:0\", shape=(?, 192), dtype=float32)\n",
      "Tensor(\"predict/relu4/Relu:0\", shape=(?, 192), dtype=float32)\n",
      "Tensor(\"predict/relu5/Relu:0\", shape=(?, 192), dtype=float32)\n",
      "[<tf.Tensor 'predict/out1/add:0' shape=(?, 11) dtype=float32>, <tf.Tensor 'predict/out2/add:0' shape=(?, 11) dtype=float32>, <tf.Tensor 'predict/out3/add:0' shape=(?, 11) dtype=float32>, <tf.Tensor 'predict/out4/add:0' shape=(?, 11) dtype=float32>, <tf.Tensor 'predict/out5/add:0' shape=(?, 11) dtype=float32>]\n",
      "Tensor(\"predict/conv1_1/MaxPool:0\", shape=(32, 32, 64, 32), dtype=float32)\n",
      "Tensor(\"predict/conv2_1/MaxPool:0\", shape=(32, 16, 32, 64), dtype=float32)\n",
      "Tensor(\"predict/conv3_1/MaxPool:0\", shape=(32, 8, 16, 128), dtype=float32)\n",
      "Tensor(\"predict/fully_connected_1/dropout/mul:0\", shape=(32, 192), dtype=float32)\n",
      "Tensor(\"predict/relu1_1/Relu:0\", shape=(32, 192), dtype=float32)\n",
      "Tensor(\"predict/relu2_1/Relu:0\", shape=(32, 192), dtype=float32)\n",
      "Tensor(\"predict/relu3_1/Relu:0\", shape=(32, 192), dtype=float32)\n",
      "Tensor(\"predict/relu4_1/Relu:0\", shape=(32, 192), dtype=float32)\n",
      "Tensor(\"predict/relu5_1/Relu:0\", shape=(32, 192), dtype=float32)\n",
      "Initialized\n",
      "Minibatch loss at step 0: 13.291164\n",
      "Minibatch accuracy: 12.7%\n",
      "Test accuracy: 12.5%\n",
      "Minibatch loss at step 50: 5.999116\n",
      "Minibatch accuracy: 61.4%\n",
      "Test accuracy: 60.0%\n",
      "Minibatch loss at step 100: 5.995496\n",
      "Minibatch accuracy: 63.0%\n",
      "Test accuracy: 60.0%\n",
      "Minibatch loss at step 150: 5.854644\n",
      "Minibatch accuracy: 63.6%\n",
      "Test accuracy: 60.0%\n",
      "Minibatch loss at step 200: 6.047183\n",
      "Minibatch accuracy: 61.4%\n",
      "Test accuracy: 60.0%\n",
      "Minibatch loss at step 250: 6.091948\n",
      "Minibatch accuracy: 60.5%\n",
      "Test accuracy: 60.0%\n",
      "Minibatch loss at step 300: 5.917567\n",
      "Minibatch accuracy: 61.1%\n",
      "Test accuracy: 60.0%\n",
      "Minibatch loss at step 350: 6.565806\n",
      "Minibatch accuracy: 58.8%\n",
      "Test accuracy: 60.0%\n",
      "Minibatch loss at step 400: 6.156175\n",
      "Minibatch accuracy: 59.8%\n",
      "Test accuracy: 60.0%\n",
      "Minibatch loss at step 450: 5.926605\n",
      "Minibatch accuracy: 62.3%\n",
      "Test accuracy: 60.0%\n",
      "Minibatch loss at step 500: 5.937490\n",
      "Minibatch accuracy: 60.9%\n",
      "Test accuracy: 60.0%\n",
      "Minibatch loss at step 550: 6.037791\n",
      "Minibatch accuracy: 62.0%\n",
      "Test accuracy: 60.0%\n",
      "Minibatch loss at step 600: 5.887399\n",
      "Minibatch accuracy: 61.2%\n",
      "Test accuracy: 60.0%\n",
      "Minibatch loss at step 650: 6.040527\n",
      "Minibatch accuracy: 62.0%\n",
      "Test accuracy: 60.6%\n",
      "Minibatch loss at step 700: 5.997415\n",
      "Minibatch accuracy: 61.2%\n",
      "Test accuracy: 60.0%\n",
      "Minibatch loss at step 750: 5.805039\n",
      "Minibatch accuracy: 61.6%\n",
      "Test accuracy: 60.0%\n",
      "Minibatch loss at step 800: 5.501892\n",
      "Minibatch accuracy: 64.4%\n",
      "Test accuracy: 60.6%\n",
      "Minibatch loss at step 850: 5.722970\n",
      "Minibatch accuracy: 63.1%\n",
      "Test accuracy: 63.8%\n",
      "Minibatch loss at step 900: 5.403619\n",
      "Minibatch accuracy: 66.7%\n",
      "Test accuracy: 61.9%\n",
      "Minibatch loss at step 950: 5.711734\n",
      "Minibatch accuracy: 62.7%\n",
      "Test accuracy: 64.4%\n",
      "Minibatch loss at step 1000: 5.746157\n",
      "Minibatch accuracy: 63.4%\n",
      "Test accuracy: 65.0%\n",
      "Minibatch loss at step 1050: 5.574867\n",
      "Minibatch accuracy: 63.9%\n",
      "Test accuracy: 66.9%\n",
      "Minibatch loss at step 1100: 5.429393\n",
      "Minibatch accuracy: 66.9%\n",
      "Test accuracy: 66.2%\n",
      "Minibatch loss at step 1150: 5.577631\n",
      "Minibatch accuracy: 63.6%\n",
      "Test accuracy: 65.6%\n",
      "Minibatch loss at step 1200: 5.556384\n",
      "Minibatch accuracy: 64.8%\n",
      "Test accuracy: 66.9%\n",
      "Minibatch loss at step 1250: 5.334694\n",
      "Minibatch accuracy: 64.8%\n",
      "Test accuracy: 68.8%\n",
      "Minibatch loss at step 1300: 5.166213\n",
      "Minibatch accuracy: 66.9%\n",
      "Test accuracy: 66.9%\n",
      "Minibatch loss at step 1350: 4.908274\n",
      "Minibatch accuracy: 68.0%\n",
      "Test accuracy: 70.6%\n",
      "Minibatch loss at step 1400: 5.132824\n",
      "Minibatch accuracy: 66.9%\n",
      "Test accuracy: 66.9%\n",
      "Minibatch loss at step 1450: 4.601951\n",
      "Minibatch accuracy: 71.4%\n",
      "Test accuracy: 68.1%\n",
      "Minibatch loss at step 1500: 4.532784\n",
      "Minibatch accuracy: 68.4%\n",
      "Test accuracy: 69.4%\n",
      "Minibatch loss at step 1550: 4.344575\n",
      "Minibatch accuracy: 73.4%\n",
      "Test accuracy: 70.6%\n",
      "Minibatch loss at step 1600: 4.680823\n",
      "Minibatch accuracy: 70.5%\n",
      "Test accuracy: 69.4%\n",
      "Minibatch loss at step 1650: 4.442762\n",
      "Minibatch accuracy: 70.2%\n",
      "Test accuracy: 69.4%\n",
      "Minibatch loss at step 1700: 4.969842\n",
      "Minibatch accuracy: 66.7%\n",
      "Test accuracy: 69.4%\n",
      "Minibatch loss at step 1750: 4.452044\n",
      "Minibatch accuracy: 70.9%\n",
      "Test accuracy: 71.9%\n",
      "Minibatch loss at step 1800: 4.446314\n",
      "Minibatch accuracy: 72.2%\n",
      "Test accuracy: 69.4%\n",
      "Minibatch loss at step 1850: 4.424688\n",
      "Minibatch accuracy: 71.7%\n",
      "Test accuracy: 71.9%\n",
      "Minibatch loss at step 1900: 4.488571\n",
      "Minibatch accuracy: 69.5%\n",
      "Test accuracy: 71.2%\n",
      "Minibatch loss at step 1950: 4.168755\n",
      "Minibatch accuracy: 73.9%\n",
      "Test accuracy: 70.0%\n",
      "Minibatch loss at step 2000: 4.154926\n",
      "Minibatch accuracy: 73.1%\n",
      "Test accuracy: 70.0%\n",
      "Minibatch loss at step 2050: 4.383129\n",
      "Minibatch accuracy: 71.1%\n",
      "Test accuracy: 72.5%\n",
      "Minibatch loss at step 2100: 4.038114\n",
      "Minibatch accuracy: 72.8%\n",
      "Test accuracy: 70.0%\n",
      "Minibatch loss at step 2150: 3.903801\n",
      "Minibatch accuracy: 75.5%\n",
      "Test accuracy: 76.2%\n",
      "Minibatch loss at step 2200: 3.636599\n",
      "Minibatch accuracy: 75.5%\n",
      "Test accuracy: 77.5%\n",
      "Minibatch loss at step 2250: 4.135218\n",
      "Minibatch accuracy: 73.8%\n",
      "Test accuracy: 71.2%\n",
      "Minibatch loss at step 2300: 3.909726\n",
      "Minibatch accuracy: 73.9%\n",
      "Test accuracy: 71.2%\n",
      "Minibatch loss at step 2350: 4.077127\n",
      "Minibatch accuracy: 73.9%\n",
      "Test accuracy: 77.5%\n",
      "Minibatch loss at step 2400: 4.392252\n",
      "Minibatch accuracy: 73.0%\n",
      "Test accuracy: 70.6%\n",
      "Minibatch loss at step 2450: 3.966424\n",
      "Minibatch accuracy: 74.5%\n",
      "Test accuracy: 74.4%\n",
      "Minibatch loss at step 2500: 3.779401\n",
      "Minibatch accuracy: 75.5%\n",
      "Test accuracy: 77.5%\n",
      "Minibatch loss at step 2550: 3.565942\n",
      "Minibatch accuracy: 75.9%\n",
      "Test accuracy: 75.6%\n",
      "Minibatch loss at step 2600: 3.832774\n",
      "Minibatch accuracy: 74.1%\n",
      "Test accuracy: 75.6%\n",
      "Minibatch loss at step 2650: 3.924205\n",
      "Minibatch accuracy: 76.1%\n",
      "Test accuracy: 77.5%\n",
      "Minibatch loss at step 2700: 3.641359\n",
      "Minibatch accuracy: 75.6%\n",
      "Test accuracy: 75.6%\n",
      "Minibatch loss at step 2750: 3.745471\n",
      "Minibatch accuracy: 73.9%\n",
      "Test accuracy: 73.8%\n",
      "Minibatch loss at step 2800: 3.679625\n",
      "Minibatch accuracy: 74.8%\n",
      "Test accuracy: 78.8%\n",
      "Minibatch loss at step 2850: 3.754101\n",
      "Minibatch accuracy: 75.3%\n",
      "Test accuracy: 76.9%\n",
      "Minibatch loss at step 2900: 3.568396\n",
      "Minibatch accuracy: 76.4%\n",
      "Test accuracy: 76.9%\n",
      "Minibatch loss at step 2950: 3.176903\n",
      "Minibatch accuracy: 78.6%\n",
      "Test accuracy: 75.6%\n",
      "Minibatch loss at step 3000: 2.999016\n",
      "Minibatch accuracy: 79.8%\n",
      "Test accuracy: 79.4%\n",
      "Minibatch loss at step 3050: 3.384972\n",
      "Minibatch accuracy: 77.8%\n",
      "Test accuracy: 79.4%\n",
      "Minibatch loss at step 3100: 3.306227\n",
      "Minibatch accuracy: 78.9%\n",
      "Test accuracy: 81.2%\n",
      "Minibatch loss at step 3150: 3.509032\n",
      "Minibatch accuracy: 76.7%\n",
      "Test accuracy: 77.5%\n",
      "Minibatch loss at step 3200: 3.559754\n",
      "Minibatch accuracy: 75.8%\n",
      "Test accuracy: 80.0%\n",
      "Minibatch loss at step 3250: 3.480379\n",
      "Minibatch accuracy: 79.1%\n",
      "Test accuracy: 79.4%\n",
      "Minibatch loss at step 3300: 3.382896\n",
      "Minibatch accuracy: 80.3%\n",
      "Test accuracy: 80.6%\n",
      "Minibatch loss at step 3350: 3.276772\n",
      "Minibatch accuracy: 78.6%\n",
      "Test accuracy: 79.4%\n",
      "Minibatch loss at step 3400: 3.052958\n",
      "Minibatch accuracy: 79.1%\n",
      "Test accuracy: 79.4%\n",
      "Minibatch loss at step 3450: 2.815117\n",
      "Minibatch accuracy: 80.9%\n",
      "Test accuracy: 74.4%\n",
      "Minibatch loss at step 3500: 3.625509\n",
      "Minibatch accuracy: 76.2%\n",
      "Test accuracy: 81.2%\n",
      "Minibatch loss at step 3550: 2.912586\n",
      "Minibatch accuracy: 80.9%\n",
      "Test accuracy: 80.6%\n",
      "Minibatch loss at step 3600: 3.345344\n",
      "Minibatch accuracy: 78.4%\n",
      "Test accuracy: 80.6%\n",
      "Minibatch loss at step 3650: 3.269778\n",
      "Minibatch accuracy: 79.7%\n",
      "Test accuracy: 79.4%\n",
      "Minibatch loss at step 3700: 3.492775\n",
      "Minibatch accuracy: 75.6%\n",
      "Test accuracy: 80.0%\n",
      "Minibatch loss at step 3750: 2.950414\n",
      "Minibatch accuracy: 81.7%\n",
      "Test accuracy: 80.0%\n",
      "Minibatch loss at step 3800: 3.261917\n",
      "Minibatch accuracy: 79.5%\n",
      "Test accuracy: 80.0%\n",
      "Minibatch loss at step 3850: 3.060966\n",
      "Minibatch accuracy: 81.6%\n",
      "Test accuracy: 79.4%\n",
      "Minibatch loss at step 3900: 2.921013\n",
      "Minibatch accuracy: 80.5%\n",
      "Test accuracy: 76.9%\n",
      "Minibatch loss at step 3950: 3.372422\n",
      "Minibatch accuracy: 78.6%\n",
      "Test accuracy: 83.8%\n",
      "Minibatch loss at step 4000: 3.234723\n",
      "Minibatch accuracy: 78.8%\n",
      "Test accuracy: 83.8%\n",
      "Minibatch loss at step 4050: 2.716350\n",
      "Minibatch accuracy: 81.9%\n",
      "Test accuracy: 80.6%\n",
      "Minibatch loss at step 4100: 2.729429\n",
      "Minibatch accuracy: 81.7%\n",
      "Test accuracy: 79.4%\n",
      "Minibatch loss at step 4150: 2.872446\n",
      "Minibatch accuracy: 81.1%\n",
      "Test accuracy: 81.2%\n",
      "Minibatch loss at step 4200: 2.944876\n",
      "Minibatch accuracy: 80.6%\n",
      "Test accuracy: 80.0%\n",
      "Minibatch loss at step 4250: 2.720631\n",
      "Minibatch accuracy: 81.4%\n",
      "Test accuracy: 84.4%\n",
      "Minibatch loss at step 4300: 2.786382\n",
      "Minibatch accuracy: 84.1%\n",
      "Test accuracy: 80.0%\n",
      "Minibatch loss at step 4350: 3.284609\n",
      "Minibatch accuracy: 77.5%\n",
      "Test accuracy: 81.9%\n",
      "Minibatch loss at step 4400: 3.312199\n",
      "Minibatch accuracy: 80.2%\n",
      "Test accuracy: 81.2%\n",
      "Test accuracy: 81.2%\n"
     ]
    }
   ],
   "source": [
    "def my_softmax_model(x_input, drop=None):\n",
    "    depth1, depth2, depth3, depth4 = 32, 64, 128, 192\n",
    "    with tf.variable_scope(\"conv1\"):\n",
    "        relu = helper.conv_relu(x_input, kernel_shape=[3, 3, 1, depth1],  pool=True)\n",
    "        relu = tf.nn.local_response_normalization(relu)\n",
    "        \n",
    "    with tf.variable_scope(\"conv2\"):\n",
    "        relu = helper.conv_relu(relu, kernel_shape=[3, 3, depth1, depth2],  pool=True)\n",
    "        \n",
    "    with tf.variable_scope(\"conv3\"):\n",
    "        relu = helper.conv_relu(relu, kernel_shape=[3, 3, depth2, depth3], pool=True)\n",
    "        relu = tf.nn.local_response_normalization(relu)\n",
    "        \n",
    "    with tf.variable_scope(\"fully_connected\"):\n",
    "        shape = relu.get_shape().as_list()\n",
    "        csize = shape[1] * shape[2] * shape[3]\n",
    "        reshape = tf.reshape(relu, [-1, csize])    \n",
    "        relu = helper.relu(reshape, kernel_shape=[csize, depth4], drop=0.5)\n",
    "        \n",
    "    with tf.variable_scope(\"relu1\"):\n",
    "        relu1 = helper.relu(relu, kernel_shape=[depth4, depth4])\n",
    "    with tf.variable_scope(\"relu2\"):        \n",
    "        relu2 = helper.relu(relu, kernel_shape=[depth4, depth4])\n",
    "    with tf.variable_scope(\"relu3\"):\n",
    "        relu3 = helper.relu(relu, kernel_shape=[depth4, depth4])\n",
    "    with tf.variable_scope(\"relu4\"):\n",
    "        relu4 = helper.relu(relu, kernel_shape=[depth4, depth4])\n",
    "    with tf.variable_scope(\"relu5\"):\n",
    "        relu5 = helper.relu(relu, kernel_shape=[depth4, depth4])     \n",
    "        \n",
    "    with tf.variable_scope(\"out1\"):\n",
    "        weights, biases = helper.var([depth4, num_labels]) #11\n",
    "        lg1 = tf.matmul(relu1, weights) + biases\n",
    "    with tf.variable_scope(\"out2\"):        \n",
    "        weights, biases = helper.var([depth4, num_labels]) #11 \n",
    "        lg2 = tf.matmul(relu2, weights) + biases\n",
    "    with tf.variable_scope(\"out3\"):\n",
    "        weights, biases = helper.var([depth4, num_labels]) #11 \n",
    "        lg3 = tf.matmul(relu3, weights) + biases\n",
    "    with tf.variable_scope(\"out4\"):\n",
    "        weights, biases = helper.var([depth4, num_labels]) #11 \n",
    "        lg4 = tf.matmul(relu4, weights) + biases\n",
    "    with tf.variable_scope(\"out5\"):\n",
    "        weights, biases = helper.var([depth4, num_labels]) #11 \n",
    "        lg5 = tf.matmul(relu5, weights) + biases\n",
    "        loss_pack = [lg1, lg2, lg3, lg4, lg5, ]\n",
    "        return loss_pack, tf.pack([tf.nn.softmax(lg1), tf.nn.softmax(lg2), tf.nn.softmax(lg3),\n",
    "                                  tf.nn.softmax(lg4), tf.nn.softmax(lg5)])\n",
    "\n",
    "clf_sm = helper.Learner(my_softmax_model, accuracy_softmax, \n",
    "                     steps=4401, batch_size=128, learning_rate=0.1,\n",
    "                     loss=my_softmax_loss_func,\n",
    "                     optimizer=tf.train.AdagradOptimizer\n",
    "                     )\n",
    "clf_sm.fit(train_images[:,:,:,None], train_labels, validation_images[:32,:,:,None], validation_labels[:32])"
   ]
  },
  {
   "cell_type": "code",
   "execution_count": 590,
   "metadata": {
    "collapsed": false
   },
   "outputs": [
    {
     "name": "stdout",
     "output_type": "stream",
     "text": [
      "[[[  1.65277469e-09   9.99992013e-01   1.20043689e-11   1.24573774e-08\n",
      "     4.90078492e-07   1.00742881e-09   7.23149924e-06   4.75275641e-08\n",
      "     2.47354137e-07   2.91668929e-08   1.51255641e-18]]\n",
      "\n",
      " [[  1.73993863e-06   1.90569655e-04   2.39591458e-09   3.00647654e-02\n",
      "     3.72161999e-08   9.27150071e-01   6.33927202e-03   3.16289253e-08\n",
      "     3.61044966e-02   6.71896487e-05   8.18935296e-05]]\n",
      "\n",
      " [[  5.80778492e-09   9.07966864e-07   6.72423062e-10   8.48223226e-06\n",
      "     2.42861153e-09   1.24091293e-05   1.04796023e-07   1.25661592e-09\n",
      "     6.39649613e-07   1.32424634e-06   9.99976158e-01]]\n",
      "\n",
      " [[  1.65057388e-12   2.14146937e-14   5.23196124e-13   1.68505807e-13\n",
      "     3.10233610e-13   1.85814797e-13   2.48269406e-14   1.33409465e-13\n",
      "     1.82210394e-13   5.43669317e-14   1.00000000e+00]]\n",
      "\n",
      " [[  1.16761205e-15   3.60117580e-17   5.52717916e-17   8.16802680e-15\n",
      "     1.42542317e-16   8.06642446e-17   2.79060762e-17   1.42993339e-15\n",
      "     2.70572995e-17   1.63330303e-15   1.00000000e+00]]] 10334\n"
     ]
    },
    {
     "data": {
      "text/plain": [
       "<matplotlib.text.Text at 0x2841e955710>"
      ]
     },
     "execution_count": 590,
     "metadata": {},
     "output_type": "execute_result"
    },
    {
     "data": {
      "image/png": "[encoded data removed]",
      "text/plain": [
       "<matplotlib.figure.Figure at 0x2841e6acda0>"
      ]
     },
     "metadata": {},
     "output_type": "display_data"
    }
   ],
   "source": [
    "#test predict\n",
    "sample_idx = np.random.randint(len(test_images))  # pick a random image index\n",
    "sample_image = test_images[sample_idx, :]  # extract a 2D slice\n",
    "plt.imshow(sample_image.reshape(64, 128))  # display it\n",
    "\n",
    "predict_lab = clf_sm.predict(np.array([sample_image]))\n",
    "print(predict_lab, sample_idx)\n",
    "plt.xlabel( [argmaxlab(predict_lab), argmaxlab(test_labels[sample_idx])] )"
   ]
  },
  {
   "cell_type": "markdown",
   "metadata": {},
   "source": [
    "### 问题 4\n",
    "_描述如何为模型准备训练和测试数据。 模型在真实数据集上表现怎么样？_"
   ]
  },
  {
   "cell_type": "markdown",
   "metadata": {},
   "source": [
    "**回答：**"
   ]
  },
  {
   "cell_type": "markdown",
   "metadata": {},
   "source": [
    "### 问题 5\n",
    "_你（在模型上）做了什么改变？如果做了一些改变，那么你得到一个“好的”结果了妈？有没有任何你探索的导致结果更糟？_"
   ]
  },
  {
   "cell_type": "markdown",
   "metadata": {},
   "source": [
    "**回答：**"
   ]
  },
  {
   "cell_type": "markdown",
   "metadata": {},
   "source": [
    "### 问题 6\n",
    "_当你在真实数据集做测试的时候你的初始结果和最终结果是什么？你认为你的模型在正确分类数字这个任务上上做的足够好吗？_"
   ]
  },
  {
   "cell_type": "markdown",
   "metadata": {},
   "source": [
    "**回答：**"
   ]
  },
  {
   "cell_type": "markdown",
   "metadata": {},
   "source": [
    "----\n",
    "## 步骤 3: 在新抓取的图片上测试模型\n",
    "\n",
    "在你周围拍摄几张数字的图片（至少五张），然后用你的分类器来预测产生结果。或者（可选），你可以尝试使用OpenCV / SimpleCV / Pygame从网络摄像头捕获实时图像，并通过你的分类器分析这些图像。"
   ]
  },
  {
   "cell_type": "markdown",
   "metadata": {},
   "source": [
    "### 实现\n",
    "使用下面的代码单元（必要的话可以使用多个代码单元）来实现你项目的。一旦你完成了你的实现并且获得了满意的结果，请确认全面回答下面相关的问题。"
   ]
  },
  {
   "cell_type": "code",
   "execution_count": 146,
   "metadata": {
    "collapsed": false
   },
   "outputs": [
    {
     "name": "stderr",
     "output_type": "stream",
     "text": [
      "C:\\Program Files\\Anaconda2\\envs\\tensorflow-gpu\\lib\\site-packages\\scipy\\ndimage\\interpolation.py:568: UserWarning: From scipy 0.13.0, the output shape of zoom() is calculated with round() instead of int() - for these inputs the size of the returned array has changed.\n",
      "  \"the returned array has changed.\", UserWarning)\n"
     ]
    },
    {
     "name": "stdout",
     "output_type": "stream",
     "text": [
      "[[  1.45098509e-03   1.04329668e-01   8.19838569e-02   6.17532015e-01\n",
      "    1.20033264e-01   7.20839128e-02   7.97788948e-02   2.31249016e-02\n",
      "    3.57275531e-02   5.97609133e-02   4.09789072e-06   6.09791502e-02\n",
      "    3.72712091e-02   2.52984226e-01   1.19354978e-01   1.40916221e-02\n",
      "    7.38539249e-02   1.57055184e-01   2.60786768e-02   1.43333385e-02\n",
      "    8.41429085e-03   1.08340085e-02   1.79604068e-02   1.24065680e-02\n",
      "    5.70979118e-02   4.51773480e-02   4.22865525e-03   1.53230727e-02\n",
      "    6.13674847e-03   1.14673534e-02   3.16192023e-03   1.26758600e-02\n",
      "    6.25636399e-01   1.95722841e-03   1.27760391e-03   6.42357918e-04\n",
      "    1.29628577e-03   1.06751884e-03   8.54330487e-04   7.18780502e-04\n",
      "    5.54383209e-04   2.94350646e-03   5.00987796e-03   9.71212029e-01\n",
      "    1.20525692e-06   1.56735205e-05   9.43975976e-07   7.58608439e-06\n",
      "    3.80550091e-06   4.60241354e-05   5.49981678e-06   1.75158002e-05\n",
      "    1.91471054e-06   1.76229173e-06   9.99927998e-01]]\n"
     ]
    },
    {
     "data": {
      "text/plain": [
       "<matplotlib.text.Text at 0x21e03ca7e10>"
      ]
     },
     "execution_count": 146,
     "metadata": {},
     "output_type": "execute_result"
    },
    {
     "data": {
      "image/png": "[encoded data removed]",
      "text/plain": [
       "<matplotlib.figure.Figure at 0x21d9b5a8940>"
      ]
     },
     "metadata": {},
     "output_type": "display_data"
    }
   ],
   "source": [
    "svhn = reload(svhn)\n",
    "img = svhn.read_img('./1.jpg')\n",
    "\n",
    "plt.imshow(img)  # display it\n",
    "\n",
    "predict_lab = clf.predict(np.array([img]))\n",
    "print(predict_lab)\n",
    "plt.xlabel( argmaxlab(predict_lab) )\n",
    "\n"
   ]
  },
  {
   "cell_type": "markdown",
   "metadata": {},
   "source": [
    "### 问题 7\n",
    "_选择在你周围拍摄的五张候选图片，并提供在报告中。它们中的某些图片是否有一些特殊的性质，可能会导致分类困难？_"
   ]
  },
  {
   "cell_type": "markdown",
   "metadata": {},
   "source": [
    "**回答:**"
   ]
  },
  {
   "cell_type": "markdown",
   "metadata": {},
   "source": [
    "### 问题 8\n",
    "_与在现实数据集上的测试结果相比，你的模型能够在捕获的图片或实时相机流上表现同样良好吗？_"
   ]
  },
  {
   "cell_type": "markdown",
   "metadata": {},
   "source": [
    "**回答:**"
   ]
  },
  {
   "cell_type": "markdown",
   "metadata": {},
   "source": [
    "### 可选: 问题 9\n",
    "_如果必要的话，请提供关于你是如何建立一个使得你的模型能够加载和分类新获取图像的接口的。_"
   ]
  },
  {
   "cell_type": "markdown",
   "metadata": {},
   "source": [
    "**回答:** 如果你没有完成这个部分，那么这一块请保留空白"
   ]
  },
  {
   "cell_type": "markdown",
   "metadata": {},
   "source": [
    "----\n",
    "### 步骤 4: 探索一种提升模型的方式\n",
    "\n",
    "一旦你基本的分类器训练好了，你就可以做很多事情。一个例子是：（在分类的同时）还能够定位图像上数字的位置。SVHN数据集提供边界框，你可以调试以训练一个定位器。训练一个关于坐标与边框的回归损失函数，然后测试它。"
   ]
  },
  {
   "cell_type": "markdown",
   "metadata": {},
   "source": [
    "### 实现\n",
    "使用下面的代码单元（必要的话可以使用多个代码单元）来实现你项目的。一旦你完成了你的实现并且获得了满意的结果，请确认全面回答下面相关的问题。"
   ]
  },
  {
   "cell_type": "code",
   "execution_count": null,
   "metadata": {
    "collapsed": true
   },
   "outputs": [],
   "source": [
    "\n",
    "\n",
    "### 在这里实现你的代码\n",
    "### 必要的话你可以随意添加更多的代码单元 \n",
    "\n"
   ]
  },
  {
   "cell_type": "markdown",
   "metadata": {},
   "source": [
    "### 问题 10\n",
    "_你的模型在真实数据的测试集上定位数字表现的怎么样？包含位置信息之后你的分类结果有变化吗？_"
   ]
  },
  {
   "cell_type": "markdown",
   "metadata": {},
   "source": [
    "**回答：**"
   ]
  },
  {
   "cell_type": "markdown",
   "metadata": {},
   "source": [
    "### 问题 11\n",
    "在你在**步骤3 **所捕获的图像上测试你的定位功能。模型是否准确计算出你找到的图像中的数字的边界框？如果你没有使用图形界面，您可能需要手动探索边界框。_提供一个在捕获的图像上创建边界框的示例_。"
   ]
  },
  {
   "cell_type": "markdown",
   "metadata": {},
   "source": [
    "**回答：**"
   ]
  },
  {
   "cell_type": "markdown",
   "metadata": {},
   "source": [
    "----\n",
    "## 可选步骤 5：为模型封装一个应用或者是程序\n",
    "\n",
    "为了让你的项目更进一步。如果你有兴趣，可以构建一个安卓应用程序，或者是一个更鲁棒的Python程序。这些程序能够和输入的图像交互，显示分类的数字甚至边界框。比如，你可以尝试通过将你的答案叠加在图像上像[Word Lens](https://en.wikipedia.org/wiki/Word_Lens)应用程序那样来构建一个增强现实应用程序。\n",
    "\n",
    "如何在安卓上的相机应用程序中加载TensorFlow的模型的示例代码在[TensorFlow Android demo app](https://github.com/tensorflow/tensorflow/tree/master/tensorflow/examples/android)中，你可以再这个基础上做一些简单的修改。\n",
    "\n",
    "\n",
    "如果你决定探索这条可选路径，请务必记录你的接口和实现，以及你找到的重要结果。你可以通过[点击这个链接](https://review.udacity.com/#!/rubrics/413/view)看到将被用来评价你的工作的相关条目。"
   ]
  },
  {
   "cell_type": "markdown",
   "metadata": {},
   "source": [
    "### 可选 实现\n",
    "使用下面的代码单元（必要的话可以使用多个代码单元）来实现你项目的。一旦你完成了你的实现并且获得了满意的结果，请确认全面回答下面相关的问题。"
   ]
  },
  {
   "cell_type": "code",
   "execution_count": null,
   "metadata": {
    "collapsed": true
   },
   "outputs": [],
   "source": [
    "\n",
    "\n",
    "### 在这里实现你的代码  \n",
    "### 必要的话你可以随意添加更多的代码单元 \n",
    "\n"
   ]
  },
  {
   "cell_type": "markdown",
   "metadata": {},
   "source": [
    "### 文档\n",
    "请提供额外的文档，这些文档要足以详细说明安卓应用程序或Python程序如何实现可视化图像中数字的分类。你的描述应该清楚描述程序或应用程序的工作原理并提供一些演示。"
   ]
  },
  {
   "cell_type": "markdown",
   "metadata": {},
   "source": [
    "_在这里写你的文档_"
   ]
  },
  {
   "cell_type": "markdown",
   "metadata": {},
   "source": [
    "> **注意:** 当你写完了所有的代码，并且回答了所有的问题。你就可以把你的 iPython Notebook 导出成 HTML 文件。你可以在菜单栏，这样导出**File -> Download as -> HTML (.html)**把这个 HTML 和这个 iPython notebook 一起做为你的作业提交。"
   ]
  }
 ],
 "metadata": {
  "anaconda-cloud": {},
  "kernelspec": {
   "display_name": "Python [conda env:tensorflow-gpu]",
   "language": "python",
   "name": "conda-env-tensorflow-gpu-py"
  },
  "language_info": {
   "codemirror_mode": {
    "name": "ipython",
    "version": 3
   },
   "file_extension": ".py",
   "mimetype": "text/x-python",
   "name": "python",
   "nbconvert_exporter": "python",
   "pygments_lexer": "ipython3",
   "version": "3.5.2"
  }
 },
 "nbformat": 4,
 "nbformat_minor": 0
}
