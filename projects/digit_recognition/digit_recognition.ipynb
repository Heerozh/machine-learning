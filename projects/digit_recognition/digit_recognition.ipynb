{
 "cells": [
  {
   "cell_type": "markdown",
   "metadata": {},
   "source": [
    "# 机器学习工程师纳米学位\n",
    "## 深度学习\n",
    "## 项目：搭建一个数字识别项目\n",
    "\n",
    "在此文件中，我们提供给你了一个模板，以便于你根据项目的要求一步步实现要求的功能，进而完成整个项目。如果你认为需要导入另外的一些代码，请确保你正确导入了他们，并且包含在你的提交文件中。以**'练习'**开始的标题表示接下来你将开始实现你的项目。注意有一些练习是可选的，并且用**'可选'**标记出来了。\n",
    "\n",
    "在此文件中，有些示例代码已经提供给你，但你还需要实现更多的功能让项目成功运行。除非有明确要求，你无须修改任何已给出的代码。以'练习'开始的标题表示接下来的代码部分中有你必须要实现的功能。每一部分都会有详细的指导，需要实现的部分也会在注释中以'TODO'标出。请仔细阅读所有的提示！\n",
    "\n",
    "除了实现代码外，你还必须回答一些与项目和你的实现有关的问题。每一个需要你回答的问题都会以**'问题 X'**为标题。请仔细阅读每个问题，并且在问题后的**'回答'**文字框中写出完整的答案。我们将根据你对问题的回答和撰写代码所实现的功能来对你提交的项目进行评分。\n",
    "\n",
    ">**注意：** Code 和 Markdown 区域可通过 **Shift + Enter** 快捷键运行。此外，Markdown可以通过双击进入编辑模式。"
   ]
  },
  {
   "cell_type": "markdown",
   "metadata": {},
   "source": [
    "----\n",
    "## 步骤 1: 设计并测试一个模型架构\n",
    "设计并实现一个能够识别数字序列的深度学习模型。你可以通过连接[notMNIST](http://yaroslavvb.blogspot.com/2011/09/notmnist-dataset.html)或者是[MNIST](http://yann.lecun.com/exdb/mnist/)的字符来合成数据来训练这个模型。为了产生用于测试的合成数字序列，你可以进行如下的设置：比如，你可以限制一个数据序列最多五个数字，并在你的深度网络上使用五个分类器。同时，你有必要准备一个额外的“空白”的字符，以处理相对较短的数字序列。\n",
    "\n",
    "在思考这个问题的时候有很多方面可以考虑：\n",
    "- 你的模型可以基于深度神经网络或者是卷积神经网络。\n",
    "- 你可以尝试是否在softmax分类器间共享权值。\n",
    "- 你还可以在深度神经网络中使用循环网络来替换其中的分类层，并且将数字序列里的数字一个一个地输出。\n",
    "\n",
    "你可以使用 Keras 来构建你的模型，[这里](https://keras.io/)了解更多。\n",
    "\n",
    "这里有一个[发表的关于这个问题的基准模型的论文](https://github.com/nd009/machine-learning/blob/zh-cn/projects/digit_recognition/42241.pdf) [（视频）](http://cn-static.udacity.com/mlnd/videos/ICLR14_%20Goodfellow.mp4)的例子。我们并不要求你构建的模型架构跟论文上一摸一样或者达到它那样的模型表现。这里紧紧是展示一个解决这个问题的例子。我们鼓励你采用不同的架构，来看看哪种表现对你来说最好。你也可以看论坛上关于论文中架构的[讨论](https://discussions.udacity.com/t/goodfellow-et-al-2013-architecture/202363)。"
   ]
  },
  {
   "cell_type": "markdown",
   "metadata": {},
   "source": [
    "### 实现\n",
    "使用下面的代码单元（必要的话可以使用多个代码单元）来实现你项目的第一步。一旦你完成了你的实现并且获得了满意的结果，请确认全面回答下面相关的问题。"
   ]
  },
  {
   "cell_type": "code",
   "execution_count": 148,
   "metadata": {
    "collapsed": false
   },
   "outputs": [
    {
     "name": "stdout",
     "output_type": "stream",
     "text": [
      "Extracting MNIST_data/train-images-idx3-ubyte.gz\n",
      "Extracting MNIST_data/train-labels-idx1-ubyte.gz\n",
      "Extracting MNIST_data/t10k-images-idx3-ubyte.gz\n",
      "Extracting MNIST_data/t10k-labels-idx1-ubyte.gz\n"
     ]
    }
   ],
   "source": [
    "### 在这里实现你的代码  \n",
    "### 必要的话你可以随意添加更多的代码单元 \n",
    "from __future__ import print_function\n",
    "from imp import reload\n",
    "import numpy as np\n",
    "import matplotlib.pyplot as plt\n",
    "from IPython.display import display, Image\n",
    "import random\n",
    "import os\n",
    "\n",
    "import mnist_seq\n",
    "mnist_seq = reload(mnist_seq)\n",
    "\n",
    "%matplotlib inline\n",
    "\n",
    "num_seqlen = 5\n",
    "num_labels = mnist_seq.DIGITS\n",
    "\n",
    "# Generate training data\n",
    "random.seed(1)\n",
    "train_data, train_labs = mnist_seq.gen_data(10000, seqs=num_seqlen)\n",
    "vail_data, vail_labs = mnist_seq.gen_data(1000, test=True, seqs=num_seqlen)"
   ]
  },
  {
   "cell_type": "code",
   "execution_count": 149,
   "metadata": {
    "collapsed": false
   },
   "outputs": [
    {
     "name": "stdout",
     "output_type": "stream",
     "text": [
      "   0   1   2   3   4   5   6   7   8   9  B\n",
      "[[ 0.  1.  0.  0.  0.  0.  0.  0.  0.  0.  0.]\n",
      " [ 1.  0.  0.  0.  0.  0.  0.  0.  0.  0.  0.]\n",
      " [ 0.  0.  0.  0.  1.  0.  0.  0.  0.  0.  0.]\n",
      " [ 0.  1.  0.  0.  0.  0.  0.  0.  0.  0.  0.]\n",
      " [ 0.  1.  0.  0.  0.  0.  0.  0.  0.  0.  0.]] (5, 11)\n"
     ]
    },
    {
     "data": {
      "image/png": "[encoded data removed]",
      "text/plain": [
       "<matplotlib.figure.Figure at 0x15c18496780>"
      ]
     },
     "metadata": {},
     "output_type": "display_data"
    }
   ],
   "source": [
    "# test display\n",
    "plt.figure()\n",
    "rndsel = random.randint(0, len(train_data)-1)\n",
    "plt.imshow(train_data[rndsel][:, :, -1]) \n",
    "print('   0   1   2   3   4   5   6   7   8   9  B')\n",
    "print(train_labs[rndsel], train_labs[rndsel].shape)"
   ]
  },
  {
   "cell_type": "code",
   "execution_count": 3,
   "metadata": {
    "collapsed": false
   },
   "outputs": [],
   "source": [
    "import tensorflow as tf\n",
    "\n",
    "def argmaxlab(lab):\n",
    "    return np.argmax(lab.reshape(-1, num_seqlen, num_labels), 2)\n",
    "\n",
    "def accuracy(predictions, labels):\n",
    "    return (100.0 * np.sum(argmaxlab(predictions) == argmaxlab(labels))\n",
    "          / (predictions.shape[0] * num_seqlen))"
   ]
  },
  {
   "cell_type": "code",
   "execution_count": 177,
   "metadata": {
    "collapsed": false,
    "scrolled": true
   },
   "outputs": [
    {
     "name": "stdout",
     "output_type": "stream",
     "text": [
      "Tensor(\"Placeholder:0\", dtype=float32)\n",
      "Tensor(\"Const_1:0\", shape=(1000, 28, 140, 1), dtype=float32)\n",
      "Tensor(\"predict/conv1/MaxPool:0\", shape=(?, 14, 70, 32), dtype=float32)\n",
      "Tensor(\"predict/conv2/MaxPool:0\", shape=(?, 7, 35, 64), dtype=float32)\n",
      "Tensor(\"predict/conv3/MaxPool:0\", shape=(?, 4, 18, 64), dtype=float32)\n",
      "Tensor(\"predict/fully_connected/dropout/mul:0\", shape=(?, 256), dtype=float32)\n",
      "Tensor(\"predict/out/add:0\", shape=(?, 55), dtype=float32)\n",
      "Tensor(\"predict/conv1_1/MaxPool:0\", shape=(1000, 14, 70, 32), dtype=float32)\n",
      "Tensor(\"predict/conv2_1/MaxPool:0\", shape=(1000, 7, 35, 64), dtype=float32)\n",
      "Tensor(\"predict/conv3_1/MaxPool:0\", shape=(1000, 4, 18, 64), dtype=float32)\n",
      "Tensor(\"predict/fully_connected_1/Relu:0\", shape=(1000, 256), dtype=float32)\n",
      "Initialized\n",
      "Minibatch loss at step 0: 0.789747\n",
      "Minibatch accuracy: 7.0%\n",
      "Test accuracy: 9.1%\n",
      "Minibatch loss at step 50: 0.225469\n",
      "Minibatch accuracy: 35.9%\n",
      "Test accuracy: 37.9%\n",
      "Minibatch loss at step 100: 0.140941\n",
      "Minibatch accuracy: 68.3%\n",
      "Test accuracy: 73.6%\n",
      "Minibatch loss at step 150: 0.080774\n",
      "Minibatch accuracy: 87.0%\n",
      "Test accuracy: 91.7%\n",
      "Minibatch loss at step 200: 0.065364\n",
      "Minibatch accuracy: 89.2%\n",
      "Test accuracy: 95.4%\n",
      "Minibatch loss at step 250: 0.048529\n",
      "Minibatch accuracy: 93.9%\n",
      "Test accuracy: 96.8%\n",
      "Minibatch loss at step 300: 0.038214\n",
      "Minibatch accuracy: 95.0%\n",
      "Test accuracy: 97.4%\n",
      "Minibatch loss at step 350: 0.032383\n",
      "Minibatch accuracy: 96.6%\n",
      "Test accuracy: 97.9%\n",
      "Minibatch loss at step 400: 0.029342\n",
      "Minibatch accuracy: 97.0%\n",
      "Test accuracy: 97.9%\n",
      "Test accuracy: 97.9%\n"
     ]
    }
   ],
   "source": [
    "import helper\n",
    "helper = reload(helper)\n",
    "\n",
    "# Main Model\n",
    "def my_model(x_input, drop=None):\n",
    "    depth1, depth2, depth3, depth4 = 32, 64, 64, 256\n",
    "    with tf.variable_scope(\"conv1\"):\n",
    "        relu = helper.conv_relu(x_input, kernel_shape=[3, 3, 1, depth1],  pool=True)\n",
    "        \n",
    "    with tf.variable_scope(\"conv2\"):\n",
    "        relu = helper.conv_relu(relu, kernel_shape=[3, 3, depth1, depth2],  pool=True)\n",
    "        \n",
    "    with tf.variable_scope(\"conv3\"):\n",
    "        relu = helper.conv_relu(relu, kernel_shape=[3, 3, depth2, depth3], pool=True)\n",
    "        \n",
    "    with tf.variable_scope(\"fully_connected\"):\n",
    "        shape = relu.get_shape().as_list()\n",
    "        csize = shape[1] * shape[2] * shape[3]\n",
    "        reshape = tf.reshape(relu, [-1, csize])    \n",
    "        relu = helper.relu(reshape, kernel_shape=[csize, depth4], drop=drop)\n",
    "        \n",
    "    with tf.variable_scope(\"out\"):\n",
    "        weights, biases = helper.var([depth4, num_labels * num_seqlen]) #11 * 5 = 55\n",
    "        return tf.matmul(relu, weights) + biases\n",
    "\n",
    "clf = helper.Learner(my_model, accuracy, \n",
    "                     steps=401, batch_size=128, learning_rate=0.01,\n",
    "                     loss=tf.nn.sigmoid_cross_entropy_with_logits,\n",
    "                     optimizer=tf.train.AdamOptimizer\n",
    "                     )\n",
    "\n",
    "clf.fit(train_data, train_labs, test_data, test_labs)\n",
    "\n"
   ]
  },
  {
   "cell_type": "code",
   "execution_count": 206,
   "metadata": {
    "collapsed": false
   },
   "outputs": [
    {
     "name": "stdout",
     "output_type": "stream",
     "text": [
      "[[ -9.99445057  11.79050159  -8.6186533  -10.40746307 -10.8615942\n",
      "   -4.18559408  -8.61471462 -11.05561352  -6.18855047 -15.68525982\n",
      "  -24.48910713 -10.62492371  -4.61174393  -5.53133297   2.88256335\n",
      "   -7.67496252  -7.50193787 -12.3980732  -11.34070778 -10.34845257\n",
      "   -5.70394945 -26.4788208   -7.47796917  -4.79672623  -8.68801212\n",
      "  -11.28225231  -0.28980589 -13.72445583  -7.94927692  -9.76801586\n",
      "   -7.93154335  -4.37076283 -15.38599682 -15.06582737 -10.34047604\n",
      "   -8.82422447 -12.50555897   1.35143018  -7.38706255  -5.07628584\n",
      "  -13.86297798  -7.74153852   0.46981269 -13.18645287  -5.23584414\n",
      "  -17.66859436  -5.76869583 -11.18490791  -4.07778692 -10.69340706\n",
      "  -13.50463963  -7.66853428  -7.87264729   2.70578074 -10.94161987]]\n",
      "0.0\n",
      "False 0\n"
     ]
    },
    {
     "name": "stderr",
     "output_type": "stream",
     "text": [
      "C:\\Program Files\\Anaconda2\\envs\\tensorflow-gpu\\lib\\site-packages\\ipykernel\\__main__.py:10: DeprecationWarning: elementwise == comparison failed; this will raise an error in the future.\n",
      "C:\\Program Files\\Anaconda2\\envs\\tensorflow-gpu\\lib\\site-packages\\ipykernel\\__main__.py:11: DeprecationWarning: elementwise == comparison failed; this will raise an error in the future.\n"
     ]
    },
    {
     "data": {
      "image/png": "[encoded data removed]",
      "text/plain": [
       "<matplotlib.figure.Figure at 0x15c173da160>"
      ]
     },
     "metadata": {},
     "output_type": "display_data"
    }
   ],
   "source": [
    "sample_idx = np.random.randint(len(test_data))  # pick a random image index\n",
    "sample_image = test_data[sample_idx, :]  # extract a 2D slice\n",
    "plt.imshow(sample_image.reshape(28, 28*5))  # display it\n",
    "\n",
    "predict_lab = clf.predict(np.array([sample_image]))\n",
    "\n",
    "plt.xlabel(  argmaxlab(predict_lab[0]) )\n",
    "print(predict_lab)\n",
    "print((100.0 * np.sum(predict_lab == argmaxlab(test_labs[sample_idx]))\n",
    "          / (1 * num_seqlen)))\n",
    "t =( predict_lab == argmaxlab(test_labs[sample_idx]))\n",
    "print(t, np.sum(t))"
   ]
  },
  {
   "cell_type": "code",
   "execution_count": 154,
   "metadata": {
    "collapsed": false
   },
   "outputs": [
    {
     "name": "stdout",
     "output_type": "stream",
     "text": [
      "Tensor(\"Placeholder:0\", dtype=float32)\n",
      "Tensor(\"predict/conv1/MaxPool:0\", shape=(?, 14, 70, 32), dtype=float32)\n",
      "Tensor(\"predict/conv2/MaxPool:0\", shape=(?, 7, 35, 64), dtype=float32)\n",
      "Tensor(\"predict/conv3/MaxPool:0\", shape=(?, 4, 18, 64), dtype=float32)\n",
      "Tensor(\"predict/fully_connected/dropout/mul:0\", shape=(?, 256), dtype=float32)\n",
      "Tensor(\"predict/out/add:0\", shape=(?, 55), dtype=float32)\n",
      "Tensor(\"predict/conv1_1/MaxPool:0\", shape=(1000, 14, 70, 32), dtype=float32)\n",
      "Tensor(\"predict/conv2_1/MaxPool:0\", shape=(1000, 7, 35, 64), dtype=float32)\n",
      "Tensor(\"predict/conv3_1/MaxPool:0\", shape=(1000, 4, 18, 64), dtype=float32)\n",
      "Tensor(\"predict/fully_connected_1/Relu:0\", shape=(1000, 256), dtype=float32)\n",
      "Initialized\n",
      "Minibatch loss at step 0: 0.803612\n",
      "Minibatch accuracy: 13.6%\n",
      "Test accuracy: 13.3%\n",
      "Minibatch loss at step 50: 0.226544\n",
      "Minibatch accuracy: 34.4%\n",
      "Test accuracy: 38.5%\n"
     ]
    },
    {
     "ename": "NameError",
     "evalue": "name 'func_accuracy' is not defined",
     "output_type": "error",
     "traceback": [
      "\u001b[0;31m---------------------------------------------------------------------------\u001b[0m",
      "\u001b[0;31mNameError\u001b[0m                                 Traceback (most recent call last)",
      "\u001b[0;32m<ipython-input-154-334f08e04450>\u001b[0m in \u001b[0;36m<module>\u001b[0;34m()\u001b[0m\n\u001b[1;32m     51\u001b[0m             \u001b[0mprint\u001b[0m\u001b[1;33m(\u001b[0m\u001b[1;34m'Test accuracy: %.1f%%'\u001b[0m \u001b[1;33m%\u001b[0m \u001b[0maccuracy\u001b[0m\u001b[1;33m(\u001b[0m\u001b[0mvail_p\u001b[0m\u001b[1;33m,\u001b[0m \u001b[0mvail_labs\u001b[0m\u001b[1;33m)\u001b[0m\u001b[1;33m)\u001b[0m\u001b[1;33m\u001b[0m\u001b[0m\n\u001b[1;32m     52\u001b[0m             \u001b[0msaver\u001b[0m\u001b[1;33m.\u001b[0m\u001b[0msave\u001b[0m\u001b[1;33m(\u001b[0m\u001b[0msession\u001b[0m\u001b[1;33m,\u001b[0m \u001b[1;34m'./my-model'\u001b[0m\u001b[1;33m)\u001b[0m\u001b[1;33m\u001b[0m\u001b[0m\n\u001b[0;32m---> 53\u001b[0;31m     \u001b[0mprint\u001b[0m\u001b[1;33m(\u001b[0m\u001b[1;34m\"Test accuracy: %.1f%%\"\u001b[0m \u001b[1;33m%\u001b[0m \u001b[0mfunc_accuracy\u001b[0m\u001b[1;33m(\u001b[0m\u001b[0mvail_p\u001b[0m\u001b[1;33m,\u001b[0m \u001b[0mvail_labs\u001b[0m\u001b[1;33m)\u001b[0m\u001b[1;33m)\u001b[0m\u001b[1;33m\u001b[0m\u001b[0m\n\u001b[0m",
      "\u001b[0;31mNameError\u001b[0m: name 'func_accuracy' is not defined"
     ]
    }
   ],
   "source": [
    "import functools\n",
    "batch_size = 128\n",
    "label_len = functools.reduce(np.dot, train_labs.shape[1:])\n",
    "image_height = train_data.shape[1]\n",
    "image_width = train_data.shape[2]\n",
    "num_channels = train_data.shape[3]\n",
    "\n",
    "graph = tf.Graph()\n",
    "with graph.as_default():\n",
    "    # Input data.\n",
    "    tf_drop = tf.placeholder_with_default(tf.constant(0.), None)\n",
    "    tf_train_data = tf.placeholder(tf.float32)\n",
    "    tf_train_shaped = tf.reshape(tf_train_data,\n",
    "                                 shape=[-1, image_height, image_width, num_channels])\n",
    "    print(tf_train_data)\n",
    "    tf_train_labs = tf.placeholder(tf.float32, shape=(batch_size, label_len))\n",
    "    tf_vail_data = tf.constant(vail_data)\n",
    "    \n",
    "    # Training computation.\n",
    "    with tf.variable_scope(\"predict\") as scope:\n",
    "        logits = my_model(tf_train_shaped, drop=tf_drop)\n",
    "        print(logits)\n",
    "        scope.reuse_variables()\n",
    "        vail_prediction = my_model(tf_vail_data, drop=None)\n",
    "        \n",
    "    loss = tf.reduce_mean(tf.nn.sigmoid_cross_entropy_with_logits(logits, tf_train_labs))\n",
    "    # Optimizer.\n",
    "    optimizer = tf.train.AdamOptimizer(0.01).minimize(loss)\n",
    "\n",
    "    #########################\n",
    "\n",
    "with tf.Session(graph=graph) as session:\n",
    "    saver = tf.train.Saver()\n",
    "    tf.global_variables_initializer().run()\n",
    "    print('Initialized')\n",
    "    for step in range(51):\n",
    "        offset = (step * batch_size) % (train_labs.shape[0] - batch_size)\n",
    "        batch_data = train_data[offset:(offset + batch_size), :, :, :]\n",
    "        batch_labels = train_labs[offset:(offset + batch_size), :]\n",
    "        feed_dict = {\n",
    "            tf_train_data: batch_data,\n",
    "            tf_train_labs: batch_labels.reshape(batch_size, label_len),\n",
    "            tf_drop: 0.85,\n",
    "        }\n",
    "        _, l, train_p, vail_p = session.run(\n",
    "            [optimizer, loss, logits, vail_prediction], feed_dict=feed_dict)\n",
    "\n",
    "        if step % 50 == 0:\n",
    "            print('Minibatch loss at step %d: %f' % (step, l))\n",
    "            print('Minibatch accuracy: %.1f%%' % accuracy(train_p, batch_labels))\n",
    "            print('Test accuracy: %.1f%%' % accuracy(vail_p, vail_labs))\n",
    "            saver.save(session, './my-model')\n",
    "    print(\"Test accuracy: %.1f%%\" % accuracy(vail_p, vail_labs))"
   ]
  },
  {
   "cell_type": "code",
   "execution_count": 169,
   "metadata": {
    "collapsed": false,
    "scrolled": true
   },
   "outputs": [
    {
     "name": "stdout",
     "output_type": "stream",
     "text": [
      "[[-2.45646501 -1.80597067 -1.81514215 -1.50349593 -1.37005436 -2.15295076\n",
      "  -2.70605588 -1.98590016 -1.4620657  -1.97600412 -6.50005198 -2.89655876\n",
      "  -2.05328155 -1.84682441 -1.24140394 -1.53674221 -1.88832641 -1.88000858\n",
      "  -1.70523667 -1.87946379 -1.97142875 -8.52938461 -2.14917636 -2.30193233\n",
      "  -2.21510506 -3.1075213  -2.8366909  -1.98134971 -2.19365788 -2.06437993\n",
      "  -1.15745509 -2.66155982 -8.45291996 -2.02152658 -2.08673143 -1.56376469\n",
      "  -1.28858066 -2.57419038 -1.50473058 -2.26444721 -1.79402351 -2.69405937\n",
      "  -1.13277304 -5.99400902 -2.0432384  -2.85710454 -2.15424156 -2.09305072\n",
      "  -2.64343119 -2.03689551 -1.87321436 -1.84340453 -2.60237813 -2.57709479\n",
      "  -2.94530582]]\n",
      "0.0\n",
      "False 0\n"
     ]
    },
    {
     "name": "stderr",
     "output_type": "stream",
     "text": [
      "C:\\Program Files\\Anaconda2\\envs\\tensorflow-gpu\\lib\\site-packages\\ipykernel\\__main__.py:22: DeprecationWarning: elementwise == comparison failed; this will raise an error in the future.\n",
      "C:\\Program Files\\Anaconda2\\envs\\tensorflow-gpu\\lib\\site-packages\\ipykernel\\__main__.py:23: DeprecationWarning: elementwise == comparison failed; this will raise an error in the future.\n"
     ]
    },
    {
     "data": {
      "image/png": "[encoded data removed]",
      "text/plain": [
       "<matplotlib.figure.Figure at 0x15c1849c320>"
      ]
     },
     "metadata": {},
     "output_type": "display_data"
    }
   ],
   "source": [
    "# helper = reload(helper)\n",
    "# clf =  helper.Learner(my_model, accuracy)\n",
    "def predict(img):\n",
    "    with tf.Session(graph=graph) as session:\n",
    "        saver.restore(session, tf.train.latest_checkpoint('./'))\n",
    "        feed_dict = {\n",
    "            tf_train_data: img,\n",
    "            tf_drop: 0.85,\n",
    "        }\n",
    "        return session.run(logits, feed_dict=feed_dict)\n",
    "\n",
    "sample_idx = np.random.randint(len(test_data))  # pick a random image index\n",
    "sample_image = test_data[sample_idx, :]  # extract a 2D slice\n",
    "plt.imshow(sample_image.reshape(28, 28*5))  # display it\n",
    "\n",
    "# predict_lab = clf.predict(np.array([sample_image]))\n",
    "predict_lab = predict(np.array([sample_image]))\n",
    "\n",
    "plt.xlabel(  argmaxlab(predict_lab[0]) )\n",
    "print(predict_lab)\n",
    "print((100.0 * np.sum(predict_lab == argmaxlab(test_labs[sample_idx]))\n",
    "          / (1 * num_seqlen)))\n",
    "t =( predict_lab == argmaxlab(test_labs[sample_idx]))\n",
    "print(t, np.sum(t))"
   ]
  },
  {
   "cell_type": "code",
   "execution_count": 174,
   "metadata": {
    "collapsed": false
   },
   "outputs": [
    {
     "name": "stdout",
     "output_type": "stream",
     "text": [
      "Tensor(\"Placeholder:0\", dtype=float32)\n",
      "Tensor(\"Const_1:0\", shape=(1000, 28, 140, 1), dtype=float32)\n",
      "Tensor(\"predict/conv1/MaxPool:0\", shape=(?, 14, 70, 32), dtype=float32)\n",
      "Tensor(\"predict/conv2/MaxPool:0\", shape=(?, 7, 35, 64), dtype=float32)\n",
      "Tensor(\"predict/conv3/MaxPool:0\", shape=(?, 4, 18, 64), dtype=float32)\n",
      "Tensor(\"predict/fully_connected/dropout/mul:0\", shape=(?, 256), dtype=float32)\n",
      "Tensor(\"predict/out/add:0\", shape=(?, 55), dtype=float32)\n",
      "Tensor(\"predict/conv1_1/MaxPool:0\", shape=(1000, 14, 70, 32), dtype=float32)\n",
      "Tensor(\"predict/conv2_1/MaxPool:0\", shape=(1000, 7, 35, 64), dtype=float32)\n",
      "Tensor(\"predict/conv3_1/MaxPool:0\", shape=(1000, 4, 18, 64), dtype=float32)\n",
      "Tensor(\"predict/fully_connected_1/Relu:0\", shape=(1000, 256), dtype=float32)\n",
      "Initialized\n",
      "Minibatch loss at step 0: 0.778367\n",
      "Minibatch accuracy: 12.3%\n",
      "Test accuracy: 11.4%\n",
      "Minibatch loss at step 50: 0.217092\n",
      "Minibatch accuracy: 40.5%\n",
      "Test accuracy: 43.6%\n",
      "Test accuracy: 43.6%\n",
      "[[-2.25614476 -3.25095606 -1.95321524 -2.03109312 -2.30959868 -2.5147264\n",
      "  -2.57594872 -1.40880871 -1.85298157 -1.22359061 -7.79342318 -1.72979414\n",
      "  -2.98508334 -1.34818161 -1.89798737 -1.36842775 -2.36530185 -1.91421115\n",
      "  -2.79343629 -2.15866566 -2.27953839 -9.39365005 -1.88545156 -1.67780685\n",
      "  -1.36046433 -2.54510784 -2.62384295 -2.17928028 -1.23192942 -1.85930216\n",
      "  -1.17619109 -2.34391809 -6.31976795 -3.36653209 -1.31387818 -2.40775299\n",
      "  -2.95700455 -2.16850305 -2.87974858 -2.81935358 -1.78707969 -2.617975\n",
      "  -2.40880919 -2.40559435 -6.23206186 -4.64273882 -5.28451014 -4.40946341\n",
      "  -5.36141777 -4.24826574 -5.56820345 -3.62431335 -5.08856487 -4.00926733\n",
      "   3.28850412]]\n",
      "0.0\n",
      "False 0\n"
     ]
    },
    {
     "name": "stderr",
     "output_type": "stream",
     "text": [
      "C:\\Program Files\\Anaconda2\\envs\\tensorflow-gpu\\lib\\site-packages\\ipykernel\\__main__.py:21: DeprecationWarning: elementwise == comparison failed; this will raise an error in the future.\n",
      "C:\\Program Files\\Anaconda2\\envs\\tensorflow-gpu\\lib\\site-packages\\ipykernel\\__main__.py:22: DeprecationWarning: elementwise == comparison failed; this will raise an error in the future.\n"
     ]
    },
    {
     "data": {
      "image/png": "[encoded data removed]",
      "text/plain": [
       "<matplotlib.figure.Figure at 0x15c15064b00>"
      ]
     },
     "metadata": {},
     "output_type": "display_data"
    }
   ],
   "source": [
    "import test\n",
    "helper = reload(helper)\n",
    "\n",
    "clf = helper.Learner(my_model, accuracy, \n",
    "                     steps=51, batch_size=128, learning_rate=0.01,\n",
    "                     loss=tf.nn.sigmoid_cross_entropy_with_logits,\n",
    "                     optimizer=tf.train.AdamOptimizer\n",
    "                     )\n",
    "\n",
    "clf.fit(train_data, train_labs, test_data, test_labs)\n",
    "\n",
    "sample_idx = np.random.randint(len(test_data))  # pick a random image index\n",
    "sample_image = test_data[sample_idx, :]  # extract a 2D slice\n",
    "plt.imshow(sample_image.reshape(28, 28*5))  # display it\n",
    "\n",
    "predict_lab = clf.predict(np.array([sample_image]))\n",
    "\n",
    "plt.xlabel(  argmaxlab(predict_lab[0]) )\n",
    "print(predict_lab)\n",
    "print((100.0 * np.sum(predict_lab == argmaxlab(test_labs[sample_idx]))\n",
    "          / (1 * num_seqlen)))\n",
    "t =( predict_lab == argmaxlab(test_labs[sample_idx]))\n",
    "print(t, np.sum(t))"
   ]
  },
  {
   "cell_type": "code",
   "execution_count": 190,
   "metadata": {
    "collapsed": true
   },
   "outputs": [
    {
     "name": "stdout",
     "output_type": "stream",
     "text": [
      "[[[ 0.]\n",
      "  [ 0.]\n",
      "  [ 0.]\n",
      "  ..., \n",
      "  [ 0.]\n",
      "  [ 0.]\n",
      "  [ 0.]]\n",
      "\n",
      " [[ 0.]\n",
      "  [ 0.]\n",
      "  [ 0.]\n",
      "  ..., \n",
      "  [ 0.]\n",
      "  [ 0.]\n",
      "  [ 0.]]\n",
      "\n",
      " [[ 0.]\n",
      "  [ 0.]\n",
      "  [ 0.]\n",
      "  ..., \n",
      "  [ 0.]\n",
      "  [ 0.]\n",
      "  [ 0.]]\n",
      "\n",
      " ..., \n",
      " [[ 0.]\n",
      "  [ 0.]\n",
      "  [ 0.]\n",
      "  ..., \n",
      "  [ 0.]\n",
      "  [ 0.]\n",
      "  [ 0.]]\n",
      "\n",
      " [[ 0.]\n",
      "  [ 0.]\n",
      "  [ 0.]\n",
      "  ..., \n",
      "  [ 0.]\n",
      "  [ 0.]\n",
      "  [ 0.]]\n",
      "\n",
      " [[ 0.]\n",
      "  [ 0.]\n",
      "  [ 0.]\n",
      "  ..., \n",
      "  [ 0.]\n",
      "  [ 0.]\n",
      "  [ 0.]]]\n",
      "[[0 0 0 0 0]]\n",
      "0.0\n",
      "[[False False False False False]] 0\n"
     ]
    },
    {
     "data": {
      "image/png": "[encoded data removed]",
      "text/plain": [
       "<matplotlib.figure.Figure at 0x23c04c672e8>"
      ]
     },
     "metadata": {},
     "output_type": "display_data"
    }
   ],
   "source": [
    "sample_idx = np.random.randint(len(test_data))  # pick a random image index\n",
    "sample_image = test_data[sample_idx, :]  # extract a 2D slice\n",
    "plt.imshow(sample_image.reshape(image_hight, image_width))  # display it\n",
    "\n",
    "#saver = tf.train.Saver()\n",
    "with tf.Session(graph=graph) as session:\n",
    "    saver.restore(session, tf.train.latest_checkpoint('.'))\n",
    "    predict = tf.argmax(tf.reshape(logits, [-1, num_seqlen, num_labels]), 2)\n",
    "    predict_lab = session.run(predict, feed_dict={tf_train_data: [sample_image]})\n",
    "        \n",
    "plt.xlabel(  predict_lab[0] )\n",
    "print(predict_lab)\n",
    "print((100.0 * np.sum(predict_lab == argmaxlab(test_labs[sample_idx]))\n",
    "          / (1 * num_seqlen)))\n",
    "t =( predict_lab == argmaxlab(test_labs[sample_idx]))\n",
    "print(t, np.sum(t))\n"
   ]
  },
  {
   "cell_type": "markdown",
   "metadata": {},
   "source": [
    "### 问题 1\n",
    "_你为解决这个问题采取了什么方法？_"
   ]
  },
  {
   "cell_type": "markdown",
   "metadata": {},
   "source": [
    "**回答：** "
   ]
  },
  {
   "cell_type": "markdown",
   "metadata": {},
   "source": [
    "### 问题 2\n",
    "_你最终的模型架构是什么样的？（什么类型的模型，层数，大小, 连接性等）_"
   ]
  },
  {
   "cell_type": "markdown",
   "metadata": {},
   "source": [
    "**回答：**"
   ]
  },
  {
   "cell_type": "markdown",
   "metadata": {},
   "source": [
    "### 问题 3\n",
    "_你是如何训练你的模型的？你是如何合成数据集的？_请同时包括你创建的合成数据中的一些示例图像。"
   ]
  },
  {
   "cell_type": "markdown",
   "metadata": {},
   "source": [
    "**回答：**"
   ]
  },
  {
   "cell_type": "markdown",
   "metadata": {},
   "source": [
    "----\n",
    "## 步骤 2: 在真实数据集上训练一个模型\n",
    "\n",
    "一旦你确定好了一个好的模型架构，你就可以开始在真实的数据上训练你的模型了。特别地，[街景房屋门牌号(SVHN)](http://ufldl.stanford.edu/housenumbers/)数据集是一个大规模的，从谷歌街景数据中采集的门牌号数据。在这个更有挑战性的数据集（这里数字不是整齐排列的，并且会有各种倾斜、字体和颜色）上训练，可能意味着你必须做一些超参数探索以获得一个表现良好的模型。"
   ]
  },
  {
   "cell_type": "markdown",
   "metadata": {},
   "source": [
    "### 实现\n",
    "使用下面的代码单元（必要的话可以使用多个代码单元）来实现你项目。一旦你完成了你的实现并且获得了满意的结果，请确认全面回答下面相关的问题。"
   ]
  },
  {
   "cell_type": "code",
   "execution_count": null,
   "metadata": {
    "collapsed": true
   },
   "outputs": [],
   "source": [
    "\n",
    "\n",
    "### 在这里实现你的代码 \n",
    "### 必要的话你可以随意添加更多的代码单元 \n",
    "\n",
    "# def split_softmax_entropy(y_predict, y_real):\n",
    "#     y_predict_spd = tf.reshape(y_predict, [-1, num_seqlen, num_labels])\n",
    "#     y_real_spd    = tf.reshape(y_real,    [-1, num_seqlen, num_labels])\n",
    "#     rtn = 0\n",
    "#     for i in range(0, num_seqlen):\n",
    "#         rtn += tf.reduce_mean(\n",
    "#         tf.nn.softmax_cross_entropy_with_logits(labels=tf_train_labs, logits=logits))"
   ]
  },
  {
   "cell_type": "markdown",
   "metadata": {},
   "source": [
    "### 问题 4\n",
    "_描述如何为模型准备训练和测试数据。 模型在真实数据集上表现怎么样？_"
   ]
  },
  {
   "cell_type": "markdown",
   "metadata": {},
   "source": [
    "**回答：**"
   ]
  },
  {
   "cell_type": "markdown",
   "metadata": {},
   "source": [
    "### 问题 5\n",
    "_你（在模型上）做了什么改变？如果做了一些改变，那么你得到一个“好的”结果了妈？有没有任何你探索的导致结果更糟？_"
   ]
  },
  {
   "cell_type": "markdown",
   "metadata": {},
   "source": [
    "**回答：**"
   ]
  },
  {
   "cell_type": "markdown",
   "metadata": {},
   "source": [
    "### 问题 6\n",
    "_当你在真实数据集做测试的时候你的初始结果和最终结果是什么？你认为你的模型在正确分类数字这个任务上上做的足够好吗？_"
   ]
  },
  {
   "cell_type": "markdown",
   "metadata": {},
   "source": [
    "**回答：**"
   ]
  },
  {
   "cell_type": "markdown",
   "metadata": {},
   "source": [
    "----\n",
    "## 步骤 3: 在新抓取的图片上测试模型\n",
    "\n",
    "在你周围拍摄几张数字的图片（至少五张），然后用你的分类器来预测产生结果。或者（可选），你可以尝试使用OpenCV / SimpleCV / Pygame从网络摄像头捕获实时图像，并通过你的分类器分析这些图像。"
   ]
  },
  {
   "cell_type": "markdown",
   "metadata": {},
   "source": [
    "### 实现\n",
    "使用下面的代码单元（必要的话可以使用多个代码单元）来实现你项目的。一旦你完成了你的实现并且获得了满意的结果，请确认全面回答下面相关的问题。"
   ]
  },
  {
   "cell_type": "code",
   "execution_count": null,
   "metadata": {
    "collapsed": true
   },
   "outputs": [],
   "source": [
    "\n",
    "\n",
    "### 在这里实现你的代码  \n",
    "### 必要的话你可以随意添加更多的代码单元 \n",
    "\n"
   ]
  },
  {
   "cell_type": "markdown",
   "metadata": {},
   "source": [
    "### 问题 7\n",
    "_选择在你周围拍摄的五张候选图片，并提供在报告中。它们中的某些图片是否有一些特殊的性质，可能会导致分类困难？_"
   ]
  },
  {
   "cell_type": "markdown",
   "metadata": {},
   "source": [
    "**回答:**"
   ]
  },
  {
   "cell_type": "markdown",
   "metadata": {},
   "source": [
    "### 问题 8\n",
    "_与在现实数据集上的测试结果相比，你的模型能够在捕获的图片或实时相机流上表现同样良好吗？_"
   ]
  },
  {
   "cell_type": "markdown",
   "metadata": {},
   "source": [
    "**回答:**"
   ]
  },
  {
   "cell_type": "markdown",
   "metadata": {},
   "source": [
    "### 可选: 问题 9\n",
    "_如果必要的话，请提供关于你是如何建立一个使得你的模型能够加载和分类新获取图像的接口的。_"
   ]
  },
  {
   "cell_type": "markdown",
   "metadata": {},
   "source": [
    "**回答:** 如果你没有完成这个部分，那么这一块请保留空白"
   ]
  },
  {
   "cell_type": "markdown",
   "metadata": {},
   "source": [
    "----\n",
    "### 步骤 4: 探索一种提升模型的方式\n",
    "\n",
    "一旦你基本的分类器训练好了，你就可以做很多事情。一个例子是：（在分类的同时）还能够定位图像上数字的位置。SVHN数据集提供边界框，你可以调试以训练一个定位器。训练一个关于坐标与边框的回归损失函数，然后测试它。"
   ]
  },
  {
   "cell_type": "markdown",
   "metadata": {},
   "source": [
    "### 实现\n",
    "使用下面的代码单元（必要的话可以使用多个代码单元）来实现你项目的。一旦你完成了你的实现并且获得了满意的结果，请确认全面回答下面相关的问题。"
   ]
  },
  {
   "cell_type": "code",
   "execution_count": null,
   "metadata": {
    "collapsed": true
   },
   "outputs": [],
   "source": [
    "\n",
    "\n",
    "### 在这里实现你的代码\n",
    "### 必要的话你可以随意添加更多的代码单元 \n",
    "\n"
   ]
  },
  {
   "cell_type": "markdown",
   "metadata": {},
   "source": [
    "### 问题 10\n",
    "_你的模型在真实数据的测试集上定位数字表现的怎么样？包含位置信息之后你的分类结果有变化吗？_"
   ]
  },
  {
   "cell_type": "markdown",
   "metadata": {},
   "source": [
    "**回答：**"
   ]
  },
  {
   "cell_type": "markdown",
   "metadata": {},
   "source": [
    "### 问题 11\n",
    "在你在**步骤3 **所捕获的图像上测试你的定位功能。模型是否准确计算出你找到的图像中的数字的边界框？如果你没有使用图形界面，您可能需要手动探索边界框。_提供一个在捕获的图像上创建边界框的示例_。"
   ]
  },
  {
   "cell_type": "markdown",
   "metadata": {},
   "source": [
    "**回答：**"
   ]
  },
  {
   "cell_type": "markdown",
   "metadata": {},
   "source": [
    "----\n",
    "## 可选步骤 5：为模型封装一个应用或者是程序\n",
    "\n",
    "为了让你的项目更进一步。如果你有兴趣，可以构建一个安卓应用程序，或者是一个更鲁棒的Python程序。这些程序能够和输入的图像交互，显示分类的数字甚至边界框。比如，你可以尝试通过将你的答案叠加在图像上像[Word Lens](https://en.wikipedia.org/wiki/Word_Lens)应用程序那样来构建一个增强现实应用程序。\n",
    "\n",
    "如何在安卓上的相机应用程序中加载TensorFlow的模型的示例代码在[TensorFlow Android demo app](https://github.com/tensorflow/tensorflow/tree/master/tensorflow/examples/android)中，你可以再这个基础上做一些简单的修改。\n",
    "\n",
    "\n",
    "如果你决定探索这条可选路径，请务必记录你的接口和实现，以及你找到的重要结果。你可以通过[点击这个链接](https://review.udacity.com/#!/rubrics/413/view)看到将被用来评价你的工作的相关条目。"
   ]
  },
  {
   "cell_type": "markdown",
   "metadata": {},
   "source": [
    "### 可选 实现\n",
    "使用下面的代码单元（必要的话可以使用多个代码单元）来实现你项目的。一旦你完成了你的实现并且获得了满意的结果，请确认全面回答下面相关的问题。"
   ]
  },
  {
   "cell_type": "code",
   "execution_count": null,
   "metadata": {
    "collapsed": true
   },
   "outputs": [],
   "source": [
    "\n",
    "\n",
    "### 在这里实现你的代码  \n",
    "### 必要的话你可以随意添加更多的代码单元 \n",
    "\n"
   ]
  },
  {
   "cell_type": "markdown",
   "metadata": {},
   "source": [
    "### 文档\n",
    "请提供额外的文档，这些文档要足以详细说明安卓应用程序或Python程序如何实现可视化图像中数字的分类。你的描述应该清楚描述程序或应用程序的工作原理并提供一些演示。"
   ]
  },
  {
   "cell_type": "markdown",
   "metadata": {},
   "source": [
    "_在这里写你的文档_"
   ]
  },
  {
   "cell_type": "markdown",
   "metadata": {},
   "source": [
    "> **注意:** 当你写完了所有的代码，并且回答了所有的问题。你就可以把你的 iPython Notebook 导出成 HTML 文件。你可以在菜单栏，这样导出**File -> Download as -> HTML (.html)**把这个 HTML 和这个 iPython notebook 一起做为你的作业提交。"
   ]
  }
 ],
 "metadata": {
  "anaconda-cloud": {},
  "kernelspec": {
   "display_name": "Python [conda env:tensorflow-gpu]",
   "language": "python",
   "name": "conda-env-tensorflow-gpu-py"
  },
  "language_info": {
   "codemirror_mode": {
    "name": "ipython",
    "version": 3
   },
   "file_extension": ".py",
   "mimetype": "text/x-python",
   "name": "python",
   "nbconvert_exporter": "python",
   "pygments_lexer": "ipython3",
   "version": "3.5.2"
  }
 },
 "nbformat": 4,
 "nbformat_minor": 0
}
